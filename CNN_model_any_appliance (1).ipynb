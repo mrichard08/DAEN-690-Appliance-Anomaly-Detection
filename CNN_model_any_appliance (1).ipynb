{
  "nbformat": 4,
  "nbformat_minor": 0,
  "metadata": {
    "colab": {
      "name": "CNN_model_any_appliance.ipynb",
      "version": "0.3.2",
      "provenance": [],
      "collapsed_sections": []
    },
    "kernelspec": {
      "name": "python3",
      "display_name": "Python 3"
    },
    "accelerator": "GPU"
  },
  "cells": [
    {
      "cell_type": "code",
      "metadata": {
        "id": "fjcf9OhrPEnV",
        "colab_type": "code",
        "outputId": "52922014-9dba-4af1-fcb6-14c5f41f871f",
        "colab": {
          "base_uri": "https://localhost:8080/",
          "height": 50
        }
      },
      "source": [
        "!pip install -U -q PyDrive\n",
        "from pydrive.auth import GoogleAuth\n",
        "from pydrive.drive import GoogleDrive\n",
        "from google.colab import auth\n",
        "from oauth2client.client import GoogleCredentials\n",
        "\n",
        "auth.authenticate_user()\n",
        "gauth = GoogleAuth()\n",
        "gauth.credentials = GoogleCredentials.get_application_default()\n",
        "drive = GoogleDrive(gauth)"
      ],
      "execution_count": 0,
      "outputs": [
        {
          "output_type": "stream",
          "text": [
            "\u001b[?25l\r\u001b[K     |▎                               | 10kB 14.7MB/s eta 0:00:01\r\u001b[K     |▋                               | 20kB 4.1MB/s eta 0:00:01\r\u001b[K     |█                               | 30kB 5.8MB/s eta 0:00:01\r\u001b[K     |█▎                              | 40kB 3.7MB/s eta 0:00:01\r\u001b[K     |█▋                              | 51kB 4.5MB/s eta 0:00:01\r\u001b[K     |██                              | 61kB 5.3MB/s eta 0:00:01\r\u001b[K     |██▎                             | 71kB 6.0MB/s eta 0:00:01\r\u001b[K     |██▋                             | 81kB 6.8MB/s eta 0:00:01\r\u001b[K     |███                             | 92kB 7.5MB/s eta 0:00:01\r\u001b[K     |███▎                            | 102kB 5.9MB/s eta 0:00:01\r\u001b[K     |███▋                            | 112kB 5.9MB/s eta 0:00:01\r\u001b[K     |████                            | 122kB 5.9MB/s eta 0:00:01\r\u001b[K     |████▎                           | 133kB 5.9MB/s eta 0:00:01\r\u001b[K     |████▋                           | 143kB 5.9MB/s eta 0:00:01\r\u001b[K     |█████                           | 153kB 5.9MB/s eta 0:00:01\r\u001b[K     |█████▎                          | 163kB 5.9MB/s eta 0:00:01\r\u001b[K     |█████▋                          | 174kB 5.9MB/s eta 0:00:01\r\u001b[K     |██████                          | 184kB 5.9MB/s eta 0:00:01\r\u001b[K     |██████▎                         | 194kB 5.9MB/s eta 0:00:01\r\u001b[K     |██████▋                         | 204kB 5.9MB/s eta 0:00:01\r\u001b[K     |███████                         | 215kB 5.9MB/s eta 0:00:01\r\u001b[K     |███████▎                        | 225kB 5.9MB/s eta 0:00:01\r\u001b[K     |███████▋                        | 235kB 5.9MB/s eta 0:00:01\r\u001b[K     |████████                        | 245kB 5.9MB/s eta 0:00:01\r\u001b[K     |████████▎                       | 256kB 5.9MB/s eta 0:00:01\r\u001b[K     |████████▋                       | 266kB 5.9MB/s eta 0:00:01\r\u001b[K     |█████████                       | 276kB 5.9MB/s eta 0:00:01\r\u001b[K     |█████████▎                      | 286kB 5.9MB/s eta 0:00:01\r\u001b[K     |█████████▋                      | 296kB 5.9MB/s eta 0:00:01\r\u001b[K     |██████████                      | 307kB 5.9MB/s eta 0:00:01\r\u001b[K     |██████████▎                     | 317kB 5.9MB/s eta 0:00:01\r\u001b[K     |██████████▋                     | 327kB 5.9MB/s eta 0:00:01\r\u001b[K     |███████████                     | 337kB 5.9MB/s eta 0:00:01\r\u001b[K     |███████████▎                    | 348kB 5.9MB/s eta 0:00:01\r\u001b[K     |███████████▋                    | 358kB 5.9MB/s eta 0:00:01\r\u001b[K     |████████████                    | 368kB 5.9MB/s eta 0:00:01\r\u001b[K     |████████████▎                   | 378kB 5.9MB/s eta 0:00:01\r\u001b[K     |████████████▋                   | 389kB 5.9MB/s eta 0:00:01\r\u001b[K     |█████████████                   | 399kB 5.9MB/s eta 0:00:01\r\u001b[K     |█████████████▎                  | 409kB 5.9MB/s eta 0:00:01\r\u001b[K     |█████████████▋                  | 419kB 5.9MB/s eta 0:00:01\r\u001b[K     |██████████████                  | 430kB 5.9MB/s eta 0:00:01\r\u001b[K     |██████████████▎                 | 440kB 5.9MB/s eta 0:00:01\r\u001b[K     |██████████████▋                 | 450kB 5.9MB/s eta 0:00:01\r\u001b[K     |███████████████                 | 460kB 5.9MB/s eta 0:00:01\r\u001b[K     |███████████████▎                | 471kB 5.9MB/s eta 0:00:01\r\u001b[K     |███████████████▋                | 481kB 5.9MB/s eta 0:00:01\r\u001b[K     |████████████████                | 491kB 5.9MB/s eta 0:00:01\r\u001b[K     |████████████████▎               | 501kB 5.9MB/s eta 0:00:01\r\u001b[K     |████████████████▋               | 512kB 5.9MB/s eta 0:00:01\r\u001b[K     |█████████████████               | 522kB 5.9MB/s eta 0:00:01\r\u001b[K     |█████████████████▎              | 532kB 5.9MB/s eta 0:00:01\r\u001b[K     |█████████████████▋              | 542kB 5.9MB/s eta 0:00:01\r\u001b[K     |██████████████████              | 552kB 5.9MB/s eta 0:00:01\r\u001b[K     |██████████████████▎             | 563kB 5.9MB/s eta 0:00:01\r\u001b[K     |██████████████████▋             | 573kB 5.9MB/s eta 0:00:01\r\u001b[K     |███████████████████             | 583kB 5.9MB/s eta 0:00:01\r\u001b[K     |███████████████████▎            | 593kB 5.9MB/s eta 0:00:01\r\u001b[K     |███████████████████▋            | 604kB 5.9MB/s eta 0:00:01\r\u001b[K     |████████████████████            | 614kB 5.9MB/s eta 0:00:01\r\u001b[K     |████████████████████▎           | 624kB 5.9MB/s eta 0:00:01\r\u001b[K     |████████████████████▋           | 634kB 5.9MB/s eta 0:00:01\r\u001b[K     |█████████████████████           | 645kB 5.9MB/s eta 0:00:01\r\u001b[K     |█████████████████████▎          | 655kB 5.9MB/s eta 0:00:01\r\u001b[K     |█████████████████████▋          | 665kB 5.9MB/s eta 0:00:01\r\u001b[K     |██████████████████████          | 675kB 5.9MB/s eta 0:00:01\r\u001b[K     |██████████████████████▎         | 686kB 5.9MB/s eta 0:00:01\r\u001b[K     |██████████████████████▋         | 696kB 5.9MB/s eta 0:00:01\r\u001b[K     |███████████████████████         | 706kB 5.9MB/s eta 0:00:01\r\u001b[K     |███████████████████████▎        | 716kB 5.9MB/s eta 0:00:01\r\u001b[K     |███████████████████████▋        | 727kB 5.9MB/s eta 0:00:01\r\u001b[K     |████████████████████████        | 737kB 5.9MB/s eta 0:00:01\r\u001b[K     |████████████████████████▎       | 747kB 5.9MB/s eta 0:00:01\r\u001b[K     |████████████████████████▋       | 757kB 5.9MB/s eta 0:00:01\r\u001b[K     |████████████████████████▉       | 768kB 5.9MB/s eta 0:00:01\r\u001b[K     |█████████████████████████▏      | 778kB 5.9MB/s eta 0:00:01\r\u001b[K     |█████████████████████████▌      | 788kB 5.9MB/s eta 0:00:01\r\u001b[K     |█████████████████████████▉      | 798kB 5.9MB/s eta 0:00:01\r\u001b[K     |██████████████████████████▏     | 808kB 5.9MB/s eta 0:00:01\r\u001b[K     |██████████████████████████▌     | 819kB 5.9MB/s eta 0:00:01\r\u001b[K     |██████████████████████████▉     | 829kB 5.9MB/s eta 0:00:01\r\u001b[K     |███████████████████████████▏    | 839kB 5.9MB/s eta 0:00:01\r\u001b[K     |███████████████████████████▌    | 849kB 5.9MB/s eta 0:00:01\r\u001b[K     |███████████████████████████▉    | 860kB 5.9MB/s eta 0:00:01\r\u001b[K     |████████████████████████████▏   | 870kB 5.9MB/s eta 0:00:01\r\u001b[K     |████████████████████████████▌   | 880kB 5.9MB/s eta 0:00:01\r\u001b[K     |████████████████████████████▉   | 890kB 5.9MB/s eta 0:00:01\r\u001b[K     |█████████████████████████████▏  | 901kB 5.9MB/s eta 0:00:01\r\u001b[K     |█████████████████████████████▌  | 911kB 5.9MB/s eta 0:00:01\r\u001b[K     |█████████████████████████████▉  | 921kB 5.9MB/s eta 0:00:01\r\u001b[K     |██████████████████████████████▏ | 931kB 5.9MB/s eta 0:00:01\r\u001b[K     |██████████████████████████████▌ | 942kB 5.9MB/s eta 0:00:01\r\u001b[K     |██████████████████████████████▉ | 952kB 5.9MB/s eta 0:00:01\r\u001b[K     |███████████████████████████████▏| 962kB 5.9MB/s eta 0:00:01\r\u001b[K     |███████████████████████████████▌| 972kB 5.9MB/s eta 0:00:01\r\u001b[K     |███████████████████████████████▉| 983kB 5.9MB/s eta 0:00:01\r\u001b[K     |████████████████████████████████| 993kB 5.9MB/s \n",
            "\u001b[?25h  Building wheel for PyDrive (setup.py) ... \u001b[?25l\u001b[?25hdone\n"
          ],
          "name": "stdout"
        }
      ]
    },
    {
      "cell_type": "markdown",
      "metadata": {
        "id": "NanDxm79X9nb",
        "colab_type": "text"
      },
      "source": [
        "###Check GPU usage"
      ]
    },
    {
      "cell_type": "code",
      "metadata": {
        "id": "b5o1aQTAhegc",
        "colab_type": "code",
        "outputId": "483c00fc-53e5-4cbd-b039-f3df622e9d92",
        "colab": {
          "base_uri": "https://localhost:8080/",
          "height": 102
        }
      },
      "source": [
        "# memory footprint support libraries/code\n",
        "!ln -sf /opt/bin/nvidia-smi /usr/bin/nvidia-smi\n",
        "!pip install gputil\n",
        "!pip install psutil\n",
        "!pip install humanize\n",
        "import psutil\n",
        "import humanize\n",
        "import os\n",
        "import GPUtil as GPU\n",
        "GPUs = GPU.getGPUs()\n",
        "# XXX: only one GPU on Colab and isn’t guaranteed\n",
        "gpu = GPUs[0]\n",
        "def printm():\n",
        "  process = psutil.Process(os.getpid())\n",
        "  print(\"Gen RAM Free: \" + humanize.naturalsize( psutil.virtual_memory().available ), \" | Proc size: \" + humanize.naturalsize( process.memory_info().rss))\n",
        "  print(\"GPU RAM Free: {0:.0f}MB | Used: {1:.0f}MB | Util {2:3.0f}% | Total {3:.0f}MB\".format(gpu.memoryFree, gpu.memoryUsed, gpu.memoryUtil*100, gpu.memoryTotal))\n",
        "printm() "
      ],
      "execution_count": 0,
      "outputs": [
        {
          "output_type": "stream",
          "text": [
            "Requirement already satisfied: gputil in /usr/local/lib/python3.6/dist-packages (1.4.0)\n",
            "Requirement already satisfied: psutil in /usr/local/lib/python3.6/dist-packages (5.4.8)\n",
            "Requirement already satisfied: humanize in /usr/local/lib/python3.6/dist-packages (0.5.1)\n",
            "Gen RAM Free: 12.8 GB  | Proc size: 188.7 MB\n",
            "GPU RAM Free: 11441MB | Used: 0MB | Util   0% | Total 11441MB\n"
          ],
          "name": "stdout"
        }
      ]
    },
    {
      "cell_type": "markdown",
      "metadata": {
        "id": "BWTTUxmydvsP",
        "colab_type": "text"
      },
      "source": [
        "###Create functions to load house data, extract sequences, and select appliance midpoints\n",
        "\n"
      ]
    },
    {
      "cell_type": "code",
      "metadata": {
        "id": "B_2mwpw1Ww5X",
        "colab_type": "code",
        "colab": {}
      },
      "source": [
        "import pandas as pd\n",
        "import numpy as np\n",
        "import matplotlib.pyplot as plt\n",
        "import datetime\n",
        "from sklearn.preprocessing import StandardScaler\n",
        "\n",
        "# Import house_key.py file which contains the id, and appliance numbers for every house.\n",
        "house_key = drive.CreateFile({'id':'1mlx9QROP7yD_P-Gt3kXx0oWksJImQQjW'})\n",
        "house_key.GetContentFile('house_key.py')\n",
        "import house_key\n",
        "\n",
        "house_info = house_key.make_house_info()\n",
        "\n",
        "def import_house_data(selected_houses, appliance, house_info):\n",
        "  '''Import raw house data from Drive. Resample to 1 minute intervals.\n",
        "     Extract the aggregate and target appliance columns and place in\n",
        "     a dataframe. Append each house to the end of the previous df.'''\n",
        "  df = pd.DataFrame(columns = ['Aggregate', 'Appliance'])\n",
        "  for house in selected_houses:\n",
        "    id = house_info[house]['id']\n",
        "    downloaded = drive.CreateFile({'id':id}) \n",
        "    downloaded.GetContentFile(f'house{house}.csv')\n",
        "    house_df = pd.read_csv(f'house{house}.csv', parse_dates=['Time'], index_col='Time').drop(['Unix', 'Issues'], axis = 1).resample('min').mean()\n",
        "    house_df = house_df[['Aggregate', house_info[house][appliance]]].dropna()\n",
        "    house_df.rename(columns={house_info[house][appliance]:'Appliance'}, inplace=True)\n",
        "    df = df.append(house_df, sort = False)\n",
        "  return df  \n",
        "\n",
        "def make_sequences(df, n_steps):\n",
        "  \"\"\"Creates list of sequences of length n_steps\n",
        "     that walks forward one timestep at a time\"\"\"\n",
        "  input_list = list(df['Aggregate'])\n",
        "  output_list = []\n",
        "  for i in range(len(input_list)):\n",
        "    end_ix = i + n_steps\n",
        "    if end_ix > len(input_list):\n",
        "      break\n",
        "    seq = input_list[i:end_ix]\n",
        "    output_list.append(seq)\n",
        "  X = np.array(output_list) \n",
        "  X = X.reshape(X.shape[0], X.shape[1], 1)\n",
        "  return X\n",
        "\n",
        "def make_scaled_sequences(df, n_steps):\n",
        "  \"\"\"Creates list of sequences of length n_steps\n",
        "     that walks forward one timestep at a time\"\"\"\n",
        "  stdsc = StandardScaler()\n",
        "  X = stdsc.fit_transform(df[['Aggregate']])\n",
        "  input_list = list(X)\n",
        "  output_list = []\n",
        "  for i in range(len(input_list)):\n",
        "    end_ix = i + n_steps\n",
        "    if end_ix > len(input_list):\n",
        "      break\n",
        "    seq = input_list[i:end_ix]\n",
        "    output_list.append(seq)\n",
        "  X = np.array(output_list) \n",
        "  X = X.reshape(X.shape[0], X.shape[1], 1)\n",
        "  return X\n",
        "\n",
        "def get_midpoints(df, n_steps):\n",
        "  '''Gets midpoints of a sliding sequence'''\n",
        "  app_df = df.iloc[:, 1] #Select first column to get appliance data\n",
        "  app_df = app_df[n_steps//2:len(app_df)-n_steps//2]\n",
        "  y = np.array(app_df)\n",
        "  return y"
      ],
      "execution_count": 0,
      "outputs": []
    },
    {
      "cell_type": "markdown",
      "metadata": {
        "id": "yzoyPCL-x5yy",
        "colab_type": "text"
      },
      "source": [
        "![appliance list](https://drive.google.com/uc?export=view&id=12fOrgu6KKoICpQMSgtXm-Bi89_dafH12) "
      ]
    },
    {
      "cell_type": "markdown",
      "metadata": {
        "id": "-zhabXNjxR8B",
        "colab_type": "text"
      },
      "source": [
        "## *REQUIRES INPUT* Specify target appliance and training/test houses. Import data for selected houses"
      ]
    },
    {
      "cell_type": "code",
      "metadata": {
        "id": "tSUNJCzkx5IH",
        "colab_type": "code",
        "colab": {}
      },
      "source": [
        "appliance = 'Dishwasher'     # must be a string with first letters capitalized\n",
        "training_houses = [2,3,4,5,7]    # must be a list of integers\n",
        "test_house = [20]              # must be a list of integers             \n",
        "n_steps = 149                  # length of sliding window. Should be an odd number\n",
        "\n",
        "# Imports house data for target appliance and places in dataframes\n",
        "df_train = import_house_data(training_houses, appliance, house_info)\n",
        "df_test = import_house_data(test_house, appliance, house_info)"
      ],
      "execution_count": 0,
      "outputs": []
    },
    {
      "cell_type": "markdown",
      "metadata": {
        "id": "f_0ZKWyoigmj",
        "colab_type": "text"
      },
      "source": [
        "###Create training and test input sequences and target appliance midpoints"
      ]
    },
    {
      "cell_type": "code",
      "metadata": {
        "id": "7T3XdjaCO-JE",
        "colab_type": "code",
        "colab": {}
      },
      "source": [
        "# # Training sequences and midpoints\n",
        "X_train = make_sequences(df_train, n_steps) \n",
        "y_train = get_midpoints(df_train, n_steps)\n",
        "\n",
        "# Test sequences and midpoints\n",
        "X_test = make_sequences(df_test, n_steps) \n",
        "y_test = get_midpoints(df_test, n_steps)"
      ],
      "execution_count": 0,
      "outputs": []
    },
    {
      "cell_type": "markdown",
      "metadata": {
        "id": "P5ZMjlN7BYHT",
        "colab_type": "text"
      },
      "source": [
        "###Import a previous model (run this only if using a previously trained model. Load the h5 file first)"
      ]
    },
    {
      "cell_type": "code",
      "metadata": {
        "id": "GIsHqq_y-R70",
        "colab_type": "code",
        "outputId": "ef6ff945-eb84-46ab-c6ae-68970fd6f410",
        "colab": {
          "base_uri": "https://localhost:8080/",
          "height": 1000
        }
      },
      "source": [
        "# from keras.models import load_model\n",
        "\n",
        "# dw_model = drive.CreateFile({'id':'1KXzd4UELfXA16zU9nTxzm49-5gfzKVxs'})\n",
        "# dw_model.GetContentFile('dw_cnn.h5')\n",
        "\n",
        "# model = load_model('dw_cnn.h5')\n",
        "# print(model.summary())"
      ],
      "execution_count": 0,
      "outputs": [
        {
          "output_type": "stream",
          "text": [
            "Using TensorFlow backend.\n",
            "WARNING: Logging before flag parsing goes to stderr.\n",
            "W0805 17:26:38.169121 139638732896128 deprecation_wrapper.py:119] From /usr/local/lib/python3.6/dist-packages/keras/backend/tensorflow_backend.py:74: The name tf.get_default_graph is deprecated. Please use tf.compat.v1.get_default_graph instead.\n",
            "\n",
            "W0805 17:26:38.208071 139638732896128 deprecation_wrapper.py:119] From /usr/local/lib/python3.6/dist-packages/keras/backend/tensorflow_backend.py:517: The name tf.placeholder is deprecated. Please use tf.compat.v1.placeholder instead.\n",
            "\n",
            "W0805 17:26:38.326279 139638732896128 deprecation_wrapper.py:119] From /usr/local/lib/python3.6/dist-packages/keras/backend/tensorflow_backend.py:133: The name tf.placeholder_with_default is deprecated. Please use tf.compat.v1.placeholder_with_default instead.\n",
            "\n",
            "W0805 17:26:38.352815 139638732896128 deprecation_wrapper.py:119] From /usr/local/lib/python3.6/dist-packages/keras/backend/tensorflow_backend.py:4138: The name tf.random_uniform is deprecated. Please use tf.random.uniform instead.\n",
            "\n",
            "W0805 17:26:38.615636 139638732896128 deprecation_wrapper.py:119] From /usr/local/lib/python3.6/dist-packages/keras/backend/tensorflow_backend.py:3976: The name tf.nn.max_pool is deprecated. Please use tf.nn.max_pool2d instead.\n",
            "\n",
            "W0805 17:26:39.369575 139638732896128 deprecation_wrapper.py:119] From /usr/local/lib/python3.6/dist-packages/keras/backend/tensorflow_backend.py:174: The name tf.get_default_session is deprecated. Please use tf.compat.v1.get_default_session instead.\n",
            "\n",
            "W0805 17:26:42.442352 139638732896128 deprecation_wrapper.py:119] From /usr/local/lib/python3.6/dist-packages/keras/optimizers.py:790: The name tf.train.Optimizer is deprecated. Please use tf.compat.v1.train.Optimizer instead.\n",
            "\n"
          ],
          "name": "stderr"
        },
        {
          "output_type": "stream",
          "text": [
            "_________________________________________________________________\n",
            "Layer (type)                 Output Shape              Param #   \n",
            "=================================================================\n",
            "batch_normalization_1 (Batch (None, 149, 1)            4         \n",
            "_________________________________________________________________\n",
            "conv1 (Conv1D)               (None, 142, 30)           270       \n",
            "_________________________________________________________________\n",
            "batch_normalization_2 (Batch (None, 142, 30)           120       \n",
            "_________________________________________________________________\n",
            "conv2 (Conv1D)               (None, 136, 30)           6330      \n",
            "_________________________________________________________________\n",
            "batch_normalization_3 (Batch (None, 136, 30)           120       \n",
            "_________________________________________________________________\n",
            "max_pooling1d_1 (MaxPooling1 (None, 68, 30)            0         \n",
            "_________________________________________________________________\n",
            "conv3 (Conv1D)               (None, 63, 40)            7240      \n",
            "_________________________________________________________________\n",
            "batch_normalization_4 (Batch (None, 63, 40)            160       \n",
            "_________________________________________________________________\n",
            "conv4 (Conv1D)               (None, 59, 50)            10050     \n",
            "_________________________________________________________________\n",
            "max_pooling1d_2 (MaxPooling1 (None, 29, 50)            0         \n",
            "_________________________________________________________________\n",
            "batch_normalization_5 (Batch (None, 29, 50)            200       \n",
            "_________________________________________________________________\n",
            "conv5 (Conv1D)               (None, 26, 50)            10050     \n",
            "_________________________________________________________________\n",
            "batch_normalization_6 (Batch (None, 26, 50)            200       \n",
            "_________________________________________________________________\n",
            "conv6 (Conv1D)               (None, 23, 50)            10050     \n",
            "_________________________________________________________________\n",
            "max_pooling1d_3 (MaxPooling1 (None, 11, 50)            0         \n",
            "_________________________________________________________________\n",
            "batch_normalization_7 (Batch (None, 11, 50)            200       \n",
            "_________________________________________________________________\n",
            "flatten_1 (Flatten)          (None, 550)               0         \n",
            "_________________________________________________________________\n",
            "dense2 (Dense)               (None, 1024)              564224    \n",
            "_________________________________________________________________\n",
            "output (Dense)               (None, 1)                 1025      \n",
            "=================================================================\n",
            "Total params: 610,243\n",
            "Trainable params: 609,741\n",
            "Non-trainable params: 502\n",
            "_________________________________________________________________\n",
            "None\n"
          ],
          "name": "stdout"
        }
      ]
    },
    {
      "cell_type": "markdown",
      "metadata": {
        "id": "9C-ZULC8d8ko",
        "colab_type": "text"
      },
      "source": [
        "###Build CNN model (skip if using pre-trained model)"
      ]
    },
    {
      "cell_type": "code",
      "metadata": {
        "id": "JPuAQY-neYGr",
        "colab_type": "code",
        "outputId": "3a8593aa-7dde-4034-ab85-2991d6c7e20f",
        "colab": {
          "base_uri": "https://localhost:8080/",
          "height": 1000
        }
      },
      "source": [
        "import keras\n",
        "from keras.models import Sequential\n",
        "from keras.layers import Dense, Dropout, Activation, Flatten, Conv1D, MaxPooling1D \n",
        "from keras.layers import BatchNormalization\n",
        "from keras.optimizers import Adam\n",
        "from keras.callbacks import ModelCheckpoint, EarlyStopping\n",
        "\n",
        "model = Sequential()\n",
        "model.add(Conv1D(filters=30, kernel_size=7, activation = 'relu',  input_shape=(n_steps, 1), padding='same', data_format='channels_last', dilation_rate=1, name = 'conv1'))\n",
        "model.add(BatchNormalization(name = 'bn1'))\n",
        "\n",
        "model.add(Conv1D(filters=30, kernel_size=6, activation = 'relu',  padding='same', data_format='channels_last', dilation_rate=1, name = 'conv2'))\n",
        "model.add(BatchNormalization(name = 'bn2'))\n",
        "model.add(MaxPooling1D(name = 'mp1'))\n",
        "\n",
        "model.add(Conv1D(filters=40, kernel_size=5, activation = 'relu',  padding='same', data_format='channels_last', dilation_rate=1, name = 'conv3'))\n",
        "model.add(BatchNormalization(name = 'bn3'))\n",
        "\n",
        "model.add(Conv1D(filters=50, kernel_size=4, activation = 'relu',  padding='same', data_format='channels_last', dilation_rate=1, name = 'conv4'))\n",
        "model.add(MaxPooling1D(name = 'mp2'))\n",
        "model.add(BatchNormalization(name = 'bn4'))\n",
        "\n",
        "model.add(Conv1D(filters=50, kernel_size=4, activation = 'relu',  padding='same', data_format='channels_last', dilation_rate=1, name = 'conv5'))\n",
        "model.add(BatchNormalization(name = 'bn5'))\n",
        "\n",
        "model.add(Conv1D(filters=50, kernel_size=4, activation = 'relu',  padding='same', data_format='channels_last', dilation_rate=1, name = 'conv6'))\n",
        "model.add(MaxPooling1D(name = 'mp3'))\n",
        "model.add(BatchNormalization(name = 'bn6'))\n",
        "\n",
        "model.add(Flatten(name = 'flatten'))\n",
        "model.add(Dense(1200, name = 'dense1', activation = 'relu'))\n",
        "model.add(Dense(1, name = 'output', activation = 'relu'))\n",
        "adam = Adam(lr=0.001, beta_1=0.9, beta_2=0.999, epsilon=0.00000008, decay=0.0, amsgrad=False)\n",
        "\n",
        "model.compile(loss='mse', optimizer=adam, metrics=['mae'])\n",
        "\n",
        "model.summary()"
      ],
      "execution_count": 0,
      "outputs": [
        {
          "output_type": "stream",
          "text": [
            "Using TensorFlow backend.\n",
            "WARNING: Logging before flag parsing goes to stderr.\n",
            "W0725 11:53:59.588016 140055712221056 deprecation_wrapper.py:119] From /usr/local/lib/python3.6/dist-packages/keras/backend/tensorflow_backend.py:74: The name tf.get_default_graph is deprecated. Please use tf.compat.v1.get_default_graph instead.\n",
            "\n",
            "W0725 11:53:59.630647 140055712221056 deprecation_wrapper.py:119] From /usr/local/lib/python3.6/dist-packages/keras/backend/tensorflow_backend.py:517: The name tf.placeholder is deprecated. Please use tf.compat.v1.placeholder instead.\n",
            "\n",
            "W0725 11:53:59.640234 140055712221056 deprecation_wrapper.py:119] From /usr/local/lib/python3.6/dist-packages/keras/backend/tensorflow_backend.py:4138: The name tf.random_uniform is deprecated. Please use tf.random.uniform instead.\n",
            "\n",
            "W0725 11:53:59.780961 140055712221056 deprecation_wrapper.py:119] From /usr/local/lib/python3.6/dist-packages/keras/backend/tensorflow_backend.py:133: The name tf.placeholder_with_default is deprecated. Please use tf.compat.v1.placeholder_with_default instead.\n",
            "\n",
            "W0725 11:53:59.930589 140055712221056 deprecation_wrapper.py:119] From /usr/local/lib/python3.6/dist-packages/keras/backend/tensorflow_backend.py:3976: The name tf.nn.max_pool is deprecated. Please use tf.nn.max_pool2d instead.\n",
            "\n",
            "W0725 11:54:00.514239 140055712221056 deprecation_wrapper.py:119] From /usr/local/lib/python3.6/dist-packages/keras/optimizers.py:790: The name tf.train.Optimizer is deprecated. Please use tf.compat.v1.train.Optimizer instead.\n",
            "\n"
          ],
          "name": "stderr"
        },
        {
          "output_type": "stream",
          "text": [
            "_________________________________________________________________\n",
            "Layer (type)                 Output Shape              Param #   \n",
            "=================================================================\n",
            "conv1 (Conv1D)               (None, 149, 30)           240       \n",
            "_________________________________________________________________\n",
            "bn1 (BatchNormalization)     (None, 149, 30)           120       \n",
            "_________________________________________________________________\n",
            "conv2 (Conv1D)               (None, 149, 30)           5430      \n",
            "_________________________________________________________________\n",
            "bn2 (BatchNormalization)     (None, 149, 30)           120       \n",
            "_________________________________________________________________\n",
            "mp1 (MaxPooling1D)           (None, 74, 30)            0         \n",
            "_________________________________________________________________\n",
            "conv3 (Conv1D)               (None, 74, 40)            6040      \n",
            "_________________________________________________________________\n",
            "bn3 (BatchNormalization)     (None, 74, 40)            160       \n",
            "_________________________________________________________________\n",
            "conv4 (Conv1D)               (None, 74, 50)            8050      \n",
            "_________________________________________________________________\n",
            "mp2 (MaxPooling1D)           (None, 37, 50)            0         \n",
            "_________________________________________________________________\n",
            "bn4 (BatchNormalization)     (None, 37, 50)            200       \n",
            "_________________________________________________________________\n",
            "conv5 (Conv1D)               (None, 37, 50)            10050     \n",
            "_________________________________________________________________\n",
            "bn5 (BatchNormalization)     (None, 37, 50)            200       \n",
            "_________________________________________________________________\n",
            "conv6 (Conv1D)               (None, 37, 50)            10050     \n",
            "_________________________________________________________________\n",
            "mp3 (MaxPooling1D)           (None, 18, 50)            0         \n",
            "_________________________________________________________________\n",
            "bn6 (BatchNormalization)     (None, 18, 50)            200       \n",
            "_________________________________________________________________\n",
            "flatten (Flatten)            (None, 900)               0         \n",
            "_________________________________________________________________\n",
            "dense1 (Dense)               (None, 1200)              1081200   \n",
            "_________________________________________________________________\n",
            "output (Dense)               (None, 1)                 1201      \n",
            "=================================================================\n",
            "Total params: 1,123,261\n",
            "Trainable params: 1,122,761\n",
            "Non-trainable params: 500\n",
            "_________________________________________________________________\n"
          ],
          "name": "stdout"
        }
      ]
    },
    {
      "cell_type": "markdown",
      "metadata": {
        "id": "xmnXtHkQ7MmS",
        "colab_type": "text"
      },
      "source": [
        "## ***REQUIRES INPUT*** Define number of epochs and batch size.  Fit model"
      ]
    },
    {
      "cell_type": "code",
      "metadata": {
        "id": "Bv_nyQDc46G1",
        "colab_type": "code",
        "outputId": "69979d12-0086-4497-f3ab-e2fc79abae15",
        "colab": {
          "base_uri": "https://localhost:8080/",
          "height": 105
        }
      },
      "source": [
        "# import keras\n",
        "# from keras.models import Sequential\n",
        "# from keras.layers import Dense, Dropout, Activation, Flatten, Conv1D, MaxPooling1D \n",
        "# from keras.layers import BatchNormalization\n",
        "# from keras.optimizers import Adam\n",
        "# from keras.callbacks import ModelCheckpoint, EarlyStopping\n",
        "\n",
        "batch_size = 1000\n",
        "epochs = 100\n",
        "\n",
        "early_stop = EarlyStopping(monitor='mean_absolute_error', min_delta=0.1, patience=3, verbose=0, mode='auto', baseline=None, restore_best_weights=False)\n",
        "#checkpointer = ModelCheckpoint(filepath='/content/weights.hdf5')\n",
        "history = model.fit(X_train, y_train, batch_size = batch_size, epochs = epochs, verbose=1, callbacks=[early_stop])\n",
        "\n",
        "model.save('conv_dnn_new.h5')"
      ],
      "execution_count": 0,
      "outputs": [
        {
          "output_type": "stream",
          "text": [
            "W0725 11:54:12.578414 140055712221056 deprecation_wrapper.py:119] From /usr/local/lib/python3.6/dist-packages/keras/backend/tensorflow_backend.py:986: The name tf.assign_add is deprecated. Please use tf.compat.v1.assign_add instead.\n",
            "\n"
          ],
          "name": "stderr"
        },
        {
          "output_type": "stream",
          "text": [
            "Epoch 1/100\n",
            "  13000/2242390 [..............................] - ETA: 24:19 - loss: 32893.0118 - mean_absolute_error: 24.8846"
          ],
          "name": "stdout"
        }
      ]
    },
    {
      "cell_type": "markdown",
      "metadata": {
        "id": "7OS27N2Y-LWY",
        "colab_type": "text"
      },
      "source": [
        "###Plot model loss (MSE)"
      ]
    },
    {
      "cell_type": "code",
      "metadata": {
        "id": "120EE2bcv9LX",
        "colab_type": "code",
        "colab": {}
      },
      "source": [
        "plt.plot(history.history['loss'])\n",
        "plt.title('model loss')\n",
        "plt.ylabel('loss')\n",
        "plt.xlabel('epoch')\n",
        "plt.legend(['train', 'test'], loc='upper left')\n",
        "plt.show()\n",
        "plt.savefig('model_loss.png')"
      ],
      "execution_count": 0,
      "outputs": []
    },
    {
      "cell_type": "code",
      "metadata": {
        "id": "ETy14UvcfF_x",
        "colab_type": "code",
        "colab": {}
      },
      "source": [
        "history.history['loss']"
      ],
      "execution_count": 0,
      "outputs": []
    },
    {
      "cell_type": "markdown",
      "metadata": {
        "id": "LqEFmKzlK6kN",
        "colab_type": "text"
      },
      "source": [
        "###Predict appliance load for test (and training) set\n",
        "\n",
        "Typically don't do this for the training set because of the size of data. We are only really interested in the test set. If you want to see the test set fit, include the commented code in the next 3 code blocks"
      ]
    },
    {
      "cell_type": "code",
      "metadata": {
        "id": "l2A88NIIfuJn",
        "colab_type": "code",
        "colab": {}
      },
      "source": [
        "#y_hat_train = model.predict(X_train)\n",
        "y_hat_test = model.predict(X_test)"
      ],
      "execution_count": 0,
      "outputs": []
    },
    {
      "cell_type": "markdown",
      "metadata": {
        "id": "5UdzM47G-DY5",
        "colab_type": "text"
      },
      "source": [
        "###Calculate Mean Absolute Error (MAE) and Signal Aggregate Error (SAE)\n"
      ]
    },
    {
      "cell_type": "code",
      "metadata": {
        "id": "AVG83e-a9-5K",
        "colab_type": "code",
        "outputId": "3367defa-4f30-42e7-8f4a-7f7a51756710",
        "colab": {
          "base_uri": "https://localhost:8080/",
          "height": 67
        }
      },
      "source": [
        "def get_mae(df):\n",
        "    df['abs_err']= np.abs(df.y_test-df.y_hat_test)\n",
        "    mae = np.round(df.abs_err.sum()/len(df),2)\n",
        "    print(f'Mean absolute error: {mae}')\n",
        "    return mae\n",
        "\n",
        "def get_sae(df):\n",
        "    r = df.y_test.sum()\n",
        "    r_hat = df.y_hat_test.sum()\n",
        "    sae = np.round(np.abs(r_hat-r)/r, 4)\n",
        "    print(f'Signal Aggregate Error: {sae}')\n",
        "    return sae\n",
        "  \n",
        "def get_epd(df_test, y_hat_test_out):\n",
        "    app_test_df = df_test.Appliance[n_steps//2:len(df_test)-n_steps//2]\n",
        "    df_out =  pd.DataFrame({'Test':app_test_df,'Predicted':y_hat_test_out,}, index=app_test_df.index)\n",
        "    df_out = df_out.resample('D').sum()/60\n",
        "    df_out['EPD'] = np.abs(df_out.Test-df_out.Predicted)\n",
        "    epd = np.round(df_out.EPD.mean(), 2)\n",
        "    print(f'Average Energy Per Day Error (EPD): {epd}')\n",
        "    return epd\n",
        "   \n",
        "y_hat_test_out = y_hat_test.reshape(y_hat_test.shape[0])\n",
        "\n",
        "y_test_out = y_test.reshape(y_test.shape[0])\n",
        "\n",
        "test_results = pd.DataFrame({'y_test': y_test_out, 'y_hat_test': y_hat_test_out})\n",
        "  \n",
        "mae = get_mae(test_results)\n",
        "sae = get_sae(test_results)\n",
        "epd = get_epd(df_test, y_hat_test_out)"
      ],
      "execution_count": 0,
      "outputs": [
        {
          "output_type": "stream",
          "text": [
            "Mean absolute error: 29.76\n",
            "Signal Aggregate Error: 0.2611\n",
            "Average Energy Per Day Error (EPD): 333.54\n"
          ],
          "name": "stdout"
        }
      ]
    },
    {
      "cell_type": "markdown",
      "metadata": {
        "id": "l8KprCsmLPU9",
        "colab_type": "text"
      },
      "source": [
        "### Export test data as CSV file"
      ]
    },
    {
      "cell_type": "code",
      "metadata": {
        "id": "i6sznPf8_Qf7",
        "colab_type": "code",
        "outputId": "dc734066-314b-4302-b801-4d31a9ccfb67",
        "colab": {
          "base_uri": "https://localhost:8080/",
          "height": 307
        }
      },
      "source": [
        "test_csv = test_results.to_csv('dw_house2.csv', index = df_test.index, header=True)"
      ],
      "execution_count": 0,
      "outputs": [
        {
          "output_type": "error",
          "ename": "ValueError",
          "evalue": "ignored",
          "traceback": [
            "\u001b[0;31m---------------------------------------------------------------------------\u001b[0m",
            "\u001b[0;31mValueError\u001b[0m                                Traceback (most recent call last)",
            "\u001b[0;32m<ipython-input-18-3db177318bb3>\u001b[0m in \u001b[0;36m<module>\u001b[0;34m()\u001b[0m\n\u001b[0;32m----> 1\u001b[0;31m \u001b[0mtest_csv\u001b[0m \u001b[0;34m=\u001b[0m \u001b[0mtest_results\u001b[0m\u001b[0;34m.\u001b[0m\u001b[0mto_csv\u001b[0m\u001b[0;34m(\u001b[0m\u001b[0;34m'dw_house2.csv'\u001b[0m\u001b[0;34m,\u001b[0m \u001b[0mindex\u001b[0m \u001b[0;34m=\u001b[0m \u001b[0mdf_test\u001b[0m\u001b[0;34m.\u001b[0m\u001b[0mindex\u001b[0m\u001b[0;34m,\u001b[0m \u001b[0mheader\u001b[0m\u001b[0;34m=\u001b[0m\u001b[0;32mTrue\u001b[0m\u001b[0;34m)\u001b[0m\u001b[0;34m\u001b[0m\u001b[0;34m\u001b[0m\u001b[0m\n\u001b[0m",
            "\u001b[0;32m/usr/local/lib/python3.6/dist-packages/pandas/core/generic.py\u001b[0m in \u001b[0;36mto_csv\u001b[0;34m(self, path_or_buf, sep, na_rep, float_format, columns, header, index, index_label, mode, encoding, compression, quoting, quotechar, line_terminator, chunksize, tupleize_cols, date_format, doublequote, escapechar, decimal)\u001b[0m\n\u001b[1;32m   3017\u001b[0m                                  \u001b[0mdate_format\u001b[0m\u001b[0;34m=\u001b[0m\u001b[0mdate_format\u001b[0m\u001b[0;34m,\u001b[0m\u001b[0;34m\u001b[0m\u001b[0;34m\u001b[0m\u001b[0m\n\u001b[1;32m   3018\u001b[0m                                  \u001b[0mdoublequote\u001b[0m\u001b[0;34m=\u001b[0m\u001b[0mdoublequote\u001b[0m\u001b[0;34m,\u001b[0m\u001b[0;34m\u001b[0m\u001b[0;34m\u001b[0m\u001b[0m\n\u001b[0;32m-> 3019\u001b[0;31m                                  escapechar=escapechar, decimal=decimal)\n\u001b[0m\u001b[1;32m   3020\u001b[0m         \u001b[0mformatter\u001b[0m\u001b[0;34m.\u001b[0m\u001b[0msave\u001b[0m\u001b[0;34m(\u001b[0m\u001b[0;34m)\u001b[0m\u001b[0;34m\u001b[0m\u001b[0;34m\u001b[0m\u001b[0m\n\u001b[1;32m   3021\u001b[0m \u001b[0;34m\u001b[0m\u001b[0m\n",
            "\u001b[0;32m/usr/local/lib/python3.6/dist-packages/pandas/io/formats/csvs.py\u001b[0m in \u001b[0;36m__init__\u001b[0;34m(self, obj, path_or_buf, sep, na_rep, float_format, cols, header, index, index_label, mode, nanRep, encoding, compression, quoting, line_terminator, chunksize, tupleize_cols, quotechar, date_format, doublequote, escapechar, decimal)\u001b[0m\n\u001b[1;32m    125\u001b[0m \u001b[0;34m\u001b[0m\u001b[0m\n\u001b[1;32m    126\u001b[0m         \u001b[0mself\u001b[0m\u001b[0;34m.\u001b[0m\u001b[0mnlevels\u001b[0m \u001b[0;34m=\u001b[0m \u001b[0mgetattr\u001b[0m\u001b[0;34m(\u001b[0m\u001b[0mself\u001b[0m\u001b[0;34m.\u001b[0m\u001b[0mdata_index\u001b[0m\u001b[0;34m,\u001b[0m \u001b[0;34m'nlevels'\u001b[0m\u001b[0;34m,\u001b[0m \u001b[0;36m1\u001b[0m\u001b[0;34m)\u001b[0m\u001b[0;34m\u001b[0m\u001b[0;34m\u001b[0m\u001b[0m\n\u001b[0;32m--> 127\u001b[0;31m         \u001b[0;32mif\u001b[0m \u001b[0;32mnot\u001b[0m \u001b[0mindex\u001b[0m\u001b[0;34m:\u001b[0m\u001b[0;34m\u001b[0m\u001b[0;34m\u001b[0m\u001b[0m\n\u001b[0m\u001b[1;32m    128\u001b[0m             \u001b[0mself\u001b[0m\u001b[0;34m.\u001b[0m\u001b[0mnlevels\u001b[0m \u001b[0;34m=\u001b[0m \u001b[0;36m0\u001b[0m\u001b[0;34m\u001b[0m\u001b[0;34m\u001b[0m\u001b[0m\n\u001b[1;32m    129\u001b[0m \u001b[0;34m\u001b[0m\u001b[0m\n",
            "\u001b[0;32m/usr/local/lib/python3.6/dist-packages/pandas/core/indexes/base.py\u001b[0m in \u001b[0;36m__nonzero__\u001b[0;34m(self)\u001b[0m\n\u001b[1;32m   2229\u001b[0m         raise ValueError(\"The truth value of a {0} is ambiguous. \"\n\u001b[1;32m   2230\u001b[0m                          \u001b[0;34m\"Use a.empty, a.bool(), a.item(), a.any() or a.all().\"\u001b[0m\u001b[0;34m\u001b[0m\u001b[0;34m\u001b[0m\u001b[0m\n\u001b[0;32m-> 2231\u001b[0;31m                          .format(self.__class__.__name__))\n\u001b[0m\u001b[1;32m   2232\u001b[0m \u001b[0;34m\u001b[0m\u001b[0m\n\u001b[1;32m   2233\u001b[0m     \u001b[0m__bool__\u001b[0m \u001b[0;34m=\u001b[0m \u001b[0m__nonzero__\u001b[0m\u001b[0;34m\u001b[0m\u001b[0;34m\u001b[0m\u001b[0m\n",
            "\u001b[0;31mValueError\u001b[0m: The truth value of a DatetimeIndex is ambiguous. Use a.empty, a.bool(), a.item(), a.any() or a.all()."
          ]
        }
      ]
    },
    {
      "cell_type": "code",
      "metadata": {
        "id": "tMy9CGonphYs",
        "colab_type": "code",
        "colab": {}
      },
      "source": [
        "predictions = pd.DataFrame({'Dishwasher Predicted': y_hat_test_out.astype('float64'), \n",
        "                           }, index = df_test.index[n_steps//2:len(df_test)-n_steps//2])"
      ],
      "execution_count": 0,
      "outputs": []
    },
    {
      "cell_type": "code",
      "metadata": {
        "id": "t3FQLa0V1oTw",
        "colab_type": "code",
        "outputId": "d4056fba-f887-4187-e31c-502fe1f4badd",
        "colab": {
          "base_uri": "https://localhost:8080/",
          "height": 284
        }
      },
      "source": [
        "predictions.plot()"
      ],
      "execution_count": 0,
      "outputs": [
        {
          "output_type": "execute_result",
          "data": {
            "text/plain": [
              "<matplotlib.axes._subplots.AxesSubplot at 0x7effc0babd30>"
            ]
          },
          "metadata": {
            "tags": []
          },
          "execution_count": 20
        },
        {
          "output_type": "display_data",
          "data": {
            "image/png": "[encoded data removed]",
            "text/plain": [
              "<Figure size 432x288 with 1 Axes>"
            ]
          },
          "metadata": {
            "tags": []
          }
        }
      ]
    },
    {
      "cell_type": "code",
      "metadata": {
        "colab_type": "code",
        "id": "58n9q0_9uD_4",
        "colab": {}
      },
      "source": [
        "dw_out = predictions.to_csv('dw_house2.csv', index = 'Time', header=True)"
      ],
      "execution_count": 0,
      "outputs": []
    },
    {
      "cell_type": "markdown",
      "metadata": {
        "id": "GZUb28WXHIzD",
        "colab_type": "text"
      },
      "source": [
        "###Plot Test Data and Model Predictions"
      ]
    },
    {
      "cell_type": "code",
      "metadata": {
        "id": "CvbAY1JD-lCk",
        "colab_type": "code",
        "outputId": "c35f2c52-94f8-407b-f896-281bf596bb3d",
        "colab": {
          "base_uri": "https://localhost:8080/",
          "height": 47
        }
      },
      "source": [
        "from bokeh.plotting import figure, output_file, show\n",
        "from bokeh.io import output_notebook\n",
        "from bokeh.themes import built_in_themes\n",
        "from bokeh.io import curdoc\n",
        "\n",
        "output_notebook()\n",
        "curdoc().theme = 'dark_minimal'\n",
        "\n",
        "p = figure(plot_width=1200, plot_height=600, x_axis_type=\"datetime\")\n",
        "p.xaxis.axis_label = \"Time\"\n",
        "p.yaxis.axis_label = \"Watts\"\n",
        "\n",
        "x0 = np.array(df_test.index[n_steps//2+1:len(df_test)-n_steps//2+1])\n",
        "y0 = np.array(df_test.Aggregate[n_steps//2+1:len(df_test)-n_steps//2+1])\n",
        "\n",
        "p.line(x0, y0, legend= \"Aggregate\", line_color='green')\n",
        "p.line(x0, y_test_out, legend= \"Actual\", line_color='red')\n",
        "p.line(x0, y_hat_test_out, legend= \"Predicted\", line_color='yellow')\n",
        "\n",
        "show(p)"
      ],
      "execution_count": 0,
      "outputs": [
        {
          "output_type": "display_data",
          "data": {
            "text/html": [
              "\n",
              "    <div class=\"bk-root\">\n",
              "        <a href=\"https://bokeh.pydata.org\" target=\"_blank\" class=\"bk-logo bk-logo-small bk-logo-notebook\"></a>\n",
              "        <span id=\"1001\">Loading BokehJS ...</span>\n",
              "    </div>"
            ]
          },
          "metadata": {
            "tags": []
          }
        },
        {
          "output_type": "display_data",
          "data": {
            "application/javascript": [
              "\n",
              "(function(root) {\n",
              "  function now() {\n",
              "    return new Date();\n",
              "  }\n",
              "\n",
              "  var force = true;\n",
              "\n",
              "  if (typeof (root._bokeh_onload_callbacks) === \"undefined\" || force === true) {\n",
              "    root._bokeh_onload_callbacks = [];\n",
              "    root._bokeh_is_loading = undefined;\n",
              "  }\n",
              "\n",
              "  var JS_MIME_TYPE = 'application/javascript';\n",
              "  var HTML_MIME_TYPE = 'text/html';\n",
              "  var EXEC_MIME_TYPE = 'application/vnd.bokehjs_exec.v0+json';\n",
              "  var CLASS_NAME = 'output_bokeh rendered_html';\n",
              "\n",
              "  /**\n",
              "   * Render data to the DOM node\n",
              "   */\n",
              "  function render(props, node) {\n",
              "    var script = document.createElement(\"script\");\n",
              "    node.appendChild(script);\n",
              "  }\n",
              "\n",
              "  /**\n",
              "   * Handle when an output is cleared or removed\n",
              "   */\n",
              "  function handleClearOutput(event, handle) {\n",
              "    var cell = handle.cell;\n",
              "\n",
              "    var id = cell.output_area._bokeh_element_id;\n",
              "    var server_id = cell.output_area._bokeh_server_id;\n",
              "    // Clean up Bokeh references\n",
              "    if (id != null && id in Bokeh.index) {\n",
              "      Bokeh.index[id].model.document.clear();\n",
              "      delete Bokeh.index[id];\n",
              "    }\n",
              "\n",
              "    if (server_id !== undefined) {\n",
              "      // Clean up Bokeh references\n",
              "      var cmd = \"from bokeh.io.state import curstate; print(curstate().uuid_to_server['\" + server_id + \"'].get_sessions()[0].document.roots[0]._id)\";\n",
              "      cell.notebook.kernel.execute(cmd, {\n",
              "        iopub: {\n",
              "          output: function(msg) {\n",
              "            var id = msg.content.text.trim();\n",
              "            if (id in Bokeh.index) {\n",
              "              Bokeh.index[id].model.document.clear();\n",
              "              delete Bokeh.index[id];\n",
              "            }\n",
              "          }\n",
              "        }\n",
              "      });\n",
              "      // Destroy server and session\n",
              "      var cmd = \"import bokeh.io.notebook as ion; ion.destroy_server('\" + server_id + \"')\";\n",
              "      cell.notebook.kernel.execute(cmd);\n",
              "    }\n",
              "  }\n",
              "\n",
              "  /**\n",
              "   * Handle when a new output is added\n",
              "   */\n",
              "  function handleAddOutput(event, handle) {\n",
              "    var output_area = handle.output_area;\n",
              "    var output = handle.output;\n",
              "\n",
              "    // limit handleAddOutput to display_data with EXEC_MIME_TYPE content only\n",
              "    if ((output.output_type != \"display_data\") || (!output.data.hasOwnProperty(EXEC_MIME_TYPE))) {\n",
              "      return\n",
              "    }\n",
              "\n",
              "    var toinsert = output_area.element.find(\".\" + CLASS_NAME.split(' ')[0]);\n",
              "\n",
              "    if (output.metadata[EXEC_MIME_TYPE][\"id\"] !== undefined) {\n",
              "      toinsert[toinsert.length - 1].firstChild.textContent = output.data[JS_MIME_TYPE];\n",
              "      // store reference to embed id on output_area\n",
              "      output_area._bokeh_element_id = output.metadata[EXEC_MIME_TYPE][\"id\"];\n",
              "    }\n",
              "    if (output.metadata[EXEC_MIME_TYPE][\"server_id\"] !== undefined) {\n",
              "      var bk_div = document.createElement(\"div\");\n",
              "      bk_div.innerHTML = output.data[HTML_MIME_TYPE];\n",
              "      var script_attrs = bk_div.children[0].attributes;\n",
              "      for (var i = 0; i < script_attrs.length; i++) {\n",
              "        toinsert[toinsert.length - 1].firstChild.setAttribute(script_attrs[i].name, script_attrs[i].value);\n",
              "      }\n",
              "      // store reference to server id on output_area\n",
              "      output_area._bokeh_server_id = output.metadata[EXEC_MIME_TYPE][\"server_id\"];\n",
              "    }\n",
              "  }\n",
              "\n",
              "  function register_renderer(events, OutputArea) {\n",
              "\n",
              "    function append_mime(data, metadata, element) {\n",
              "      // create a DOM node to render to\n",
              "      var toinsert = this.create_output_subarea(\n",
              "        metadata,\n",
              "        CLASS_NAME,\n",
              "        EXEC_MIME_TYPE\n",
              "      );\n",
              "      this.keyboard_manager.register_events(toinsert);\n",
              "      // Render to node\n",
              "      var props = {data: data, metadata: metadata[EXEC_MIME_TYPE]};\n",
              "      render(props, toinsert[toinsert.length - 1]);\n",
              "      element.append(toinsert);\n",
              "      return toinsert\n",
              "    }\n",
              "\n",
              "    /* Handle when an output is cleared or removed */\n",
              "    events.on('clear_output.CodeCell', handleClearOutput);\n",
              "    events.on('delete.Cell', handleClearOutput);\n",
              "\n",
              "    /* Handle when a new output is added */\n",
              "    events.on('output_added.OutputArea', handleAddOutput);\n",
              "\n",
              "    /**\n",
              "     * Register the mime type and append_mime function with output_area\n",
              "     */\n",
              "    OutputArea.prototype.register_mime_type(EXEC_MIME_TYPE, append_mime, {\n",
              "      /* Is output safe? */\n",
              "      safe: true,\n",
              "      /* Index of renderer in `output_area.display_order` */\n",
              "      index: 0\n",
              "    });\n",
              "  }\n",
              "\n",
              "  // register the mime type if in Jupyter Notebook environment and previously unregistered\n",
              "  if (root.Jupyter !== undefined) {\n",
              "    var events = require('base/js/events');\n",
              "    var OutputArea = require('notebook/js/outputarea').OutputArea;\n",
              "\n",
              "    if (OutputArea.prototype.mime_types().indexOf(EXEC_MIME_TYPE) == -1) {\n",
              "      register_renderer(events, OutputArea);\n",
              "    }\n",
              "  }\n",
              "\n",
              "  \n",
              "  if (typeof (root._bokeh_timeout) === \"undefined\" || force === true) {\n",
              "    root._bokeh_timeout = Date.now() + 5000;\n",
              "    root._bokeh_failed_load = false;\n",
              "  }\n",
              "\n",
              "  var NB_LOAD_WARNING = {'data': {'text/html':\n",
              "     \"<div style='background-color: #fdd'>\\n\"+\n",
              "     \"<p>\\n\"+\n",
              "     \"BokehJS does not appear to have successfully loaded. If loading BokehJS from CDN, this \\n\"+\n",
              "     \"may be due to a slow or bad network connection. Possible fixes:\\n\"+\n",
              "     \"</p>\\n\"+\n",
              "     \"<ul>\\n\"+\n",
              "     \"<li>re-rerun `output_notebook()` to attempt to load from CDN again, or</li>\\n\"+\n",
              "     \"<li>use INLINE resources instead, as so:</li>\\n\"+\n",
              "     \"</ul>\\n\"+\n",
              "     \"<code>\\n\"+\n",
              "     \"from bokeh.resources import INLINE\\n\"+\n",
              "     \"output_notebook(resources=INLINE)\\n\"+\n",
              "     \"</code>\\n\"+\n",
              "     \"</div>\"}};\n",
              "\n",
              "  function display_loaded() {\n",
              "    var el = document.getElementById(\"1001\");\n",
              "    if (el != null) {\n",
              "      el.textContent = \"BokehJS is loading...\";\n",
              "    }\n",
              "    if (root.Bokeh !== undefined) {\n",
              "      if (el != null) {\n",
              "        el.textContent = \"BokehJS \" + root.Bokeh.version + \" successfully loaded.\";\n",
              "      }\n",
              "    } else if (Date.now() < root._bokeh_timeout) {\n",
              "      setTimeout(display_loaded, 100)\n",
              "    }\n",
              "  }\n",
              "\n",
              "\n",
              "  function run_callbacks() {\n",
              "    try {\n",
              "      root._bokeh_onload_callbacks.forEach(function(callback) { callback() });\n",
              "    }\n",
              "    finally {\n",
              "      delete root._bokeh_onload_callbacks\n",
              "    }\n",
              "    console.info(\"Bokeh: all callbacks have finished\");\n",
              "  }\n",
              "\n",
              "  function load_libs(js_urls, callback) {\n",
              "    root._bokeh_onload_callbacks.push(callback);\n",
              "    if (root._bokeh_is_loading > 0) {\n",
              "      console.log(\"Bokeh: BokehJS is being loaded, scheduling callback at\", now());\n",
              "      return null;\n",
              "    }\n",
              "    if (js_urls == null || js_urls.length === 0) {\n",
              "      run_callbacks();\n",
              "      return null;\n",
              "    }\n",
              "    console.log(\"Bokeh: BokehJS not loaded, scheduling load and callback at\", now());\n",
              "    root._bokeh_is_loading = js_urls.length;\n",
              "    for (var i = 0; i < js_urls.length; i++) {\n",
              "      var url = js_urls[i];\n",
              "      var s = document.createElement('script');\n",
              "      s.src = url;\n",
              "      s.async = false;\n",
              "      s.onreadystatechange = s.onload = function() {\n",
              "        root._bokeh_is_loading--;\n",
              "        if (root._bokeh_is_loading === 0) {\n",
              "          console.log(\"Bokeh: all BokehJS libraries loaded\");\n",
              "          run_callbacks()\n",
              "        }\n",
              "      };\n",
              "      s.onerror = function() {\n",
              "        console.warn(\"failed to load library \" + url);\n",
              "      };\n",
              "      console.log(\"Bokeh: injecting script tag for BokehJS library: \", url);\n",
              "      document.getElementsByTagName(\"head\")[0].appendChild(s);\n",
              "    }\n",
              "  };var element = document.getElementById(\"1001\");\n",
              "  if (element == null) {\n",
              "    console.log(\"Bokeh: ERROR: autoload.js configured with elementid '1001' but no matching script tag was found. \")\n",
              "    return false;\n",
              "  }\n",
              "\n",
              "  var js_urls = [\"https://cdn.pydata.org/bokeh/release/bokeh-1.0.4.min.js\", \"https://cdn.pydata.org/bokeh/release/bokeh-widgets-1.0.4.min.js\", \"https://cdn.pydata.org/bokeh/release/bokeh-tables-1.0.4.min.js\", \"https://cdn.pydata.org/bokeh/release/bokeh-gl-1.0.4.min.js\"];\n",
              "\n",
              "  var inline_js = [\n",
              "    function(Bokeh) {\n",
              "      Bokeh.set_log_level(\"info\");\n",
              "    },\n",
              "    \n",
              "    function(Bokeh) {\n",
              "      \n",
              "    },\n",
              "    function(Bokeh) {\n",
              "      console.log(\"Bokeh: injecting CSS: https://cdn.pydata.org/bokeh/release/bokeh-1.0.4.min.css\");\n",
              "      Bokeh.embed.inject_css(\"https://cdn.pydata.org/bokeh/release/bokeh-1.0.4.min.css\");\n",
              "      console.log(\"Bokeh: injecting CSS: https://cdn.pydata.org/bokeh/release/bokeh-widgets-1.0.4.min.css\");\n",
              "      Bokeh.embed.inject_css(\"https://cdn.pydata.org/bokeh/release/bokeh-widgets-1.0.4.min.css\");\n",
              "      console.log(\"Bokeh: injecting CSS: https://cdn.pydata.org/bokeh/release/bokeh-tables-1.0.4.min.css\");\n",
              "      Bokeh.embed.inject_css(\"https://cdn.pydata.org/bokeh/release/bokeh-tables-1.0.4.min.css\");\n",
              "    }\n",
              "  ];\n",
              "\n",
              "  function run_inline_js() {\n",
              "    \n",
              "    if ((root.Bokeh !== undefined) || (force === true)) {\n",
              "      for (var i = 0; i < inline_js.length; i++) {\n",
              "        inline_js[i].call(root, root.Bokeh);\n",
              "      }if (force === true) {\n",
              "        display_loaded();\n",
              "      }} else if (Date.now() < root._bokeh_timeout) {\n",
              "      setTimeout(run_inline_js, 100);\n",
              "    } else if (!root._bokeh_failed_load) {\n",
              "      console.log(\"Bokeh: BokehJS failed to load within specified timeout.\");\n",
              "      root._bokeh_failed_load = true;\n",
              "    } else if (force !== true) {\n",
              "      var cell = $(document.getElementById(\"1001\")).parents('.cell').data().cell;\n",
              "      cell.output_area.append_execute_result(NB_LOAD_WARNING)\n",
              "    }\n",
              "\n",
              "  }\n",
              "\n",
              "  if (root._bokeh_is_loading === 0) {\n",
              "    console.log(\"Bokeh: BokehJS loaded, going straight to plotting\");\n",
              "    run_inline_js();\n",
              "  } else {\n",
              "    load_libs(js_urls, function() {\n",
              "      console.log(\"Bokeh: BokehJS plotting callback run at\", now());\n",
              "      run_inline_js();\n",
              "    });\n",
              "  }\n",
              "}(window));"
            ],
            "application/vnd.bokehjs_load.v0+json": "\n(function(root) {\n  function now() {\n    return new Date();\n  }\n\n  var force = true;\n\n  if (typeof (root._bokeh_onload_callbacks) === \"undefined\" || force === true) {\n    root._bokeh_onload_callbacks = [];\n    root._bokeh_is_loading = undefined;\n  }\n\n  \n\n  \n  if (typeof (root._bokeh_timeout) === \"undefined\" || force === true) {\n    root._bokeh_timeout = Date.now() + 5000;\n    root._bokeh_failed_load = false;\n  }\n\n  var NB_LOAD_WARNING = {'data': {'text/html':\n     \"<div style='background-color: #fdd'>\\n\"+\n     \"<p>\\n\"+\n     \"BokehJS does not appear to have successfully loaded. If loading BokehJS from CDN, this \\n\"+\n     \"may be due to a slow or bad network connection. Possible fixes:\\n\"+\n     \"</p>\\n\"+\n     \"<ul>\\n\"+\n     \"<li>re-rerun `output_notebook()` to attempt to load from CDN again, or</li>\\n\"+\n     \"<li>use INLINE resources instead, as so:</li>\\n\"+\n     \"</ul>\\n\"+\n     \"<code>\\n\"+\n     \"from bokeh.resources import INLINE\\n\"+\n     \"output_notebook(resources=INLINE)\\n\"+\n     \"</code>\\n\"+\n     \"</div>\"}};\n\n  function display_loaded() {\n    var el = document.getElementById(\"1001\");\n    if (el != null) {\n      el.textContent = \"BokehJS is loading...\";\n    }\n    if (root.Bokeh !== undefined) {\n      if (el != null) {\n        el.textContent = \"BokehJS \" + root.Bokeh.version + \" successfully loaded.\";\n      }\n    } else if (Date.now() < root._bokeh_timeout) {\n      setTimeout(display_loaded, 100)\n    }\n  }\n\n\n  function run_callbacks() {\n    try {\n      root._bokeh_onload_callbacks.forEach(function(callback) { callback() });\n    }\n    finally {\n      delete root._bokeh_onload_callbacks\n    }\n    console.info(\"Bokeh: all callbacks have finished\");\n  }\n\n  function load_libs(js_urls, callback) {\n    root._bokeh_onload_callbacks.push(callback);\n    if (root._bokeh_is_loading > 0) {\n      console.log(\"Bokeh: BokehJS is being loaded, scheduling callback at\", now());\n      return null;\n    }\n    if (js_urls == null || js_urls.length === 0) {\n      run_callbacks();\n      return null;\n    }\n    console.log(\"Bokeh: BokehJS not loaded, scheduling load and callback at\", now());\n    root._bokeh_is_loading = js_urls.length;\n    for (var i = 0; i < js_urls.length; i++) {\n      var url = js_urls[i];\n      var s = document.createElement('script');\n      s.src = url;\n      s.async = false;\n      s.onreadystatechange = s.onload = function() {\n        root._bokeh_is_loading--;\n        if (root._bokeh_is_loading === 0) {\n          console.log(\"Bokeh: all BokehJS libraries loaded\");\n          run_callbacks()\n        }\n      };\n      s.onerror = function() {\n        console.warn(\"failed to load library \" + url);\n      };\n      console.log(\"Bokeh: injecting script tag for BokehJS library: \", url);\n      document.getElementsByTagName(\"head\")[0].appendChild(s);\n    }\n  };var element = document.getElementById(\"1001\");\n  if (element == null) {\n    console.log(\"Bokeh: ERROR: autoload.js configured with elementid '1001' but no matching script tag was found. \")\n    return false;\n  }\n\n  var js_urls = [\"https://cdn.pydata.org/bokeh/release/bokeh-1.0.4.min.js\", \"https://cdn.pydata.org/bokeh/release/bokeh-widgets-1.0.4.min.js\", \"https://cdn.pydata.org/bokeh/release/bokeh-tables-1.0.4.min.js\", \"https://cdn.pydata.org/bokeh/release/bokeh-gl-1.0.4.min.js\"];\n\n  var inline_js = [\n    function(Bokeh) {\n      Bokeh.set_log_level(\"info\");\n    },\n    \n    function(Bokeh) {\n      \n    },\n    function(Bokeh) {\n      console.log(\"Bokeh: injecting CSS: https://cdn.pydata.org/bokeh/release/bokeh-1.0.4.min.css\");\n      Bokeh.embed.inject_css(\"https://cdn.pydata.org/bokeh/release/bokeh-1.0.4.min.css\");\n      console.log(\"Bokeh: injecting CSS: https://cdn.pydata.org/bokeh/release/bokeh-widgets-1.0.4.min.css\");\n      Bokeh.embed.inject_css(\"https://cdn.pydata.org/bokeh/release/bokeh-widgets-1.0.4.min.css\");\n      console.log(\"Bokeh: injecting CSS: https://cdn.pydata.org/bokeh/release/bokeh-tables-1.0.4.min.css\");\n      Bokeh.embed.inject_css(\"https://cdn.pydata.org/bokeh/release/bokeh-tables-1.0.4.min.css\");\n    }\n  ];\n\n  function run_inline_js() {\n    \n    if ((root.Bokeh !== undefined) || (force === true)) {\n      for (var i = 0; i < inline_js.length; i++) {\n        inline_js[i].call(root, root.Bokeh);\n      }if (force === true) {\n        display_loaded();\n      }} else if (Date.now() < root._bokeh_timeout) {\n      setTimeout(run_inline_js, 100);\n    } else if (!root._bokeh_failed_load) {\n      console.log(\"Bokeh: BokehJS failed to load within specified timeout.\");\n      root._bokeh_failed_load = true;\n    } else if (force !== true) {\n      var cell = $(document.getElementById(\"1001\")).parents('.cell').data().cell;\n      cell.output_area.append_execute_result(NB_LOAD_WARNING)\n    }\n\n  }\n\n  if (root._bokeh_is_loading === 0) {\n    console.log(\"Bokeh: BokehJS loaded, going straight to plotting\");\n    run_inline_js();\n  } else {\n    load_libs(js_urls, function() {\n      console.log(\"Bokeh: BokehJS plotting callback run at\", now());\n      run_inline_js();\n    });\n  }\n}(window));"
          },
          "metadata": {
            "tags": []
          }
        },
        {
          "output_type": "display_data",
          "data": {
            "text/html": [
              "\n",
              "\n",
              "\n",
              "\n",
              "\n",
              "\n",
              "  <div class=\"bk-root\" id=\"b95169cb-2da4-4b68-b22f-c729753a2f40\" data-root-id=\"1002\"></div>\n"
            ]
          },
          "metadata": {
            "tags": []
          }
        }
      ]
    },
    {
      "cell_type": "code",
      "metadata": {
        "id": "-i-s71QMBMQ0",
        "colab_type": "code",
        "colab": {}
      },
      "source": [
        ""
      ],
      "execution_count": 0,
      "outputs": []
    }
  ]
}