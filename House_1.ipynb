{
 "cells": [
  {
   "cell_type": "code",
   "execution_count": 1,
   "metadata": {
    "collapsed": true
   },
   "outputs": [],
   "source": [
    "import pandas as pd\n",
    "import numpy as np\n",
    "import matplotlib.pyplot as plt\n",
    "import datetime \n",
    "\n",
    "# Install Bokeh\n",
    "from bokeh.plotting import figure, output_file, show"
   ]
  },
  {
   "cell_type": "markdown",
   "metadata": {},
   "source": [
    "## Import and resample data\n",
    "Import house 1 csv file and resample to 1 minute intervals"
   ]
  },
  {
   "cell_type": "code",
   "execution_count": 6,
   "metadata": {},
   "outputs": [],
   "source": [
    "df = pd.read_csv('Clean_House1.csv', parse_dates=['Time'], index_col='Time') \n",
    "df = df.drop(['Unix', 'Issues'], axis = 1)"
   ]
  },
  {
   "cell_type": "code",
   "execution_count": 7,
   "metadata": {},
   "outputs": [],
   "source": [
    "df = df.resample('min').median()"
   ]
  },
  {
   "cell_type": "code",
   "execution_count": 4,
   "metadata": {},
   "outputs": [
    {
     "data": {
      "text/html": [
       "<div>\n",
       "<style scoped>\n",
       "    .dataframe tbody tr th:only-of-type {\n",
       "        vertical-align: middle;\n",
       "    }\n",
       "\n",
       "    .dataframe tbody tr th {\n",
       "        vertical-align: top;\n",
       "    }\n",
       "\n",
       "    .dataframe thead th {\n",
       "        text-align: right;\n",
       "    }\n",
       "</style>\n",
       "<table border=\"1\" class=\"dataframe\">\n",
       "  <thead>\n",
       "    <tr style=\"text-align: right;\">\n",
       "      <th></th>\n",
       "      <th>Aggregate</th>\n",
       "      <th>Appliance1</th>\n",
       "      <th>Appliance2</th>\n",
       "      <th>Appliance3</th>\n",
       "      <th>Appliance4</th>\n",
       "      <th>Appliance5</th>\n",
       "      <th>Appliance6</th>\n",
       "      <th>Appliance7</th>\n",
       "      <th>Appliance8</th>\n",
       "      <th>Appliance9</th>\n",
       "    </tr>\n",
       "    <tr>\n",
       "      <th>Time</th>\n",
       "      <th></th>\n",
       "      <th></th>\n",
       "      <th></th>\n",
       "      <th></th>\n",
       "      <th></th>\n",
       "      <th></th>\n",
       "      <th></th>\n",
       "      <th></th>\n",
       "      <th></th>\n",
       "      <th></th>\n",
       "    </tr>\n",
       "  </thead>\n",
       "  <tbody>\n",
       "    <tr>\n",
       "      <th>2013-10-09 13:00:00</th>\n",
       "      <td>820.0</td>\n",
       "      <td>72.0</td>\n",
       "      <td>0.0</td>\n",
       "      <td>0.0</td>\n",
       "      <td>0.0</td>\n",
       "      <td>0.0</td>\n",
       "      <td>0.0</td>\n",
       "      <td>0.0</td>\n",
       "      <td>0.0</td>\n",
       "      <td>1.0</td>\n",
       "    </tr>\n",
       "    <tr>\n",
       "      <th>2013-10-09 13:15:00</th>\n",
       "      <td>1723.0</td>\n",
       "      <td>0.0</td>\n",
       "      <td>0.0</td>\n",
       "      <td>0.0</td>\n",
       "      <td>0.0</td>\n",
       "      <td>0.0</td>\n",
       "      <td>0.0</td>\n",
       "      <td>0.0</td>\n",
       "      <td>0.0</td>\n",
       "      <td>1.0</td>\n",
       "    </tr>\n",
       "    <tr>\n",
       "      <th>2013-10-09 13:30:00</th>\n",
       "      <td>576.0</td>\n",
       "      <td>0.0</td>\n",
       "      <td>46.0</td>\n",
       "      <td>0.0</td>\n",
       "      <td>0.0</td>\n",
       "      <td>0.0</td>\n",
       "      <td>0.0</td>\n",
       "      <td>0.0</td>\n",
       "      <td>0.0</td>\n",
       "      <td>1.0</td>\n",
       "    </tr>\n",
       "    <tr>\n",
       "      <th>2013-10-09 13:45:00</th>\n",
       "      <td>392.0</td>\n",
       "      <td>0.0</td>\n",
       "      <td>0.0</td>\n",
       "      <td>0.0</td>\n",
       "      <td>0.0</td>\n",
       "      <td>0.0</td>\n",
       "      <td>0.0</td>\n",
       "      <td>0.0</td>\n",
       "      <td>0.0</td>\n",
       "      <td>1.0</td>\n",
       "    </tr>\n",
       "    <tr>\n",
       "      <th>2013-10-09 14:00:00</th>\n",
       "      <td>646.0</td>\n",
       "      <td>0.0</td>\n",
       "      <td>0.0</td>\n",
       "      <td>71.0</td>\n",
       "      <td>0.0</td>\n",
       "      <td>0.0</td>\n",
       "      <td>0.0</td>\n",
       "      <td>0.0</td>\n",
       "      <td>0.0</td>\n",
       "      <td>1.0</td>\n",
       "    </tr>\n",
       "  </tbody>\n",
       "</table>\n",
       "</div>"
      ],
      "text/plain": [
       "                     Aggregate  Appliance1  Appliance2  Appliance3  \\\n",
       "Time                                                                 \n",
       "2013-10-09 13:00:00      820.0        72.0         0.0         0.0   \n",
       "2013-10-09 13:15:00     1723.0         0.0         0.0         0.0   \n",
       "2013-10-09 13:30:00      576.0         0.0        46.0         0.0   \n",
       "2013-10-09 13:45:00      392.0         0.0         0.0         0.0   \n",
       "2013-10-09 14:00:00      646.0         0.0         0.0        71.0   \n",
       "\n",
       "                     Appliance4  Appliance5  Appliance6  Appliance7  \\\n",
       "Time                                                                  \n",
       "2013-10-09 13:00:00         0.0         0.0         0.0         0.0   \n",
       "2013-10-09 13:15:00         0.0         0.0         0.0         0.0   \n",
       "2013-10-09 13:30:00         0.0         0.0         0.0         0.0   \n",
       "2013-10-09 13:45:00         0.0         0.0         0.0         0.0   \n",
       "2013-10-09 14:00:00         0.0         0.0         0.0         0.0   \n",
       "\n",
       "                     Appliance8  Appliance9  \n",
       "Time                                         \n",
       "2013-10-09 13:00:00         0.0         1.0  \n",
       "2013-10-09 13:15:00         0.0         1.0  \n",
       "2013-10-09 13:30:00         0.0         1.0  \n",
       "2013-10-09 13:45:00         0.0         1.0  \n",
       "2013-10-09 14:00:00         0.0         1.0  "
      ]
     },
     "execution_count": 4,
     "metadata": {},
     "output_type": "execute_result"
    }
   ],
   "source": [
    "df.head()"
   ]
  },
  {
   "cell_type": "markdown",
   "metadata": {},
   "source": [
    "## Plot Aggregate and Appliance Load\n",
    "Use Bokeh to create and interactive plot"
   ]
  },
  {
   "cell_type": "code",
   "execution_count": 8,
   "metadata": {},
   "outputs": [],
   "source": [
    "# Plot Aggregate and individual household load for House 1\n",
    "\n",
    "x0 = np.array(df.index)\n",
    "y0 = np.array(df.Aggregate)\n",
    "y1 = np.array(df.Appliance1)\n",
    "y2 = np.array(df.Appliance2)\n",
    "y3 = np.array(df.Appliance3)\n",
    "y4 = np.array(df.Appliance4)\n",
    "y5 = np.array(df.Appliance5)\n",
    "y6 = np.array(df.Appliance6)\n",
    "y7 = np.array(df.Appliance7)\n",
    "y8 = np.array(df.Appliance8)\n",
    "y9 = np.array(df.Appliance9)\n",
    "\n",
    "output_file('eda.html')\n",
    "\n",
    "p = figure(plot_width=1200, plot_height=600, x_axis_type=\"datetime\")\n",
    "p.line(x0, y0, legend= \"Aggregate\", line_color='#9e0142')\n",
    "p.line(x0, y1, legend= \"Refrigerator\", line_color='#d53e4f')\n",
    "p.line(x0, y2, legend= \"Chest Freezer\", line_color='#f46d43')\n",
    "p.line(x0, y3, legend= \"Upright Freezer\", line_color='#fdae61')\n",
    "p.line(x0, y4, legend= \"Dryer\", line_color='#fee08b')\n",
    "p.line(x0, y5, legend= \"Washing Machine\", line_color='#e6f598')\n",
    "p.line(x0, y6, legend= \"Dishwasher\", line_color='#abdda4')\n",
    "p.line(x0, y7, legend= \"Computer\", line_color='#66c2a5')\n",
    "p.line(x0, y8, legend= \"Television\", line_color='#3288bd')\n",
    "p.line(x0, y9, legend= \"Electric Heater\", line_color='#5e4fa2')\n",
    "\n",
    "show(p)"
   ]
  },
  {
   "cell_type": "code",
   "execution_count": null,
   "metadata": {},
   "outputs": [],
   "source": []
  }
 ],
 "metadata": {
  "kernelspec": {
   "display_name": "Python 3",
   "language": "python",
   "name": "python3"
  },
  "language_info": {
   "codemirror_mode": {
    "name": "ipython",
    "version": 3
   },
   "file_extension": ".py",
   "mimetype": "text/x-python",
   "name": "python",
   "nbconvert_exporter": "python",
   "pygments_lexer": "ipython3",
   "version": "3.6.5"
  }
 },
 "nbformat": 4,
 "nbformat_minor": 2
}
