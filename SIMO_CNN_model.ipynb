{
  "nbformat": 4,
  "nbformat_minor": 0,
  "metadata": {
    "colab": {
      "name": "SIMO_CNN_model.ipynb",
      "version": "0.3.2",
      "provenance": [],
      "collapsed_sections": []
    },
    "kernelspec": {
      "name": "python3",
      "display_name": "Python 3"
    },
    "accelerator": "GPU"
  },
  "cells": [
    {
      "cell_type": "code",
      "metadata": {
        "id": "fjcf9OhrPEnV",
        "colab_type": "code",
        "colab": {}
      },
      "source": [
        "!pip install -U -q PyDrive\n",
        "from pydrive.auth import GoogleAuth\n",
        "from pydrive.drive import GoogleDrive\n",
        "from google.colab import auth\n",
        "from oauth2client.client import GoogleCredentials\n",
        "\n",
        "auth.authenticate_user()\n",
        "gauth = GoogleAuth()\n",
        "gauth.credentials = GoogleCredentials.get_application_default()\n",
        "drive = GoogleDrive(gauth)"
      ],
      "execution_count": 0,
      "outputs": []
    },
    {
      "cell_type": "markdown",
      "metadata": {
        "id": "NanDxm79X9nb",
        "colab_type": "text"
      },
      "source": [
        "###Check GPU usage"
      ]
    },
    {
      "cell_type": "code",
      "metadata": {
        "id": "b5o1aQTAhegc",
        "colab_type": "code",
        "outputId": "59c1909b-118d-4eb9-937e-b8b61a01a4ed",
        "colab": {
          "base_uri": "https://localhost:8080/",
          "height": 238
        }
      },
      "source": [
        "# memory footprint support libraries/code\n",
        "!ln -sf /opt/bin/nvidia-smi /usr/bin/nvidia-smi\n",
        "!pip install gputil\n",
        "!pip install psutil\n",
        "!pip install humanize\n",
        "import psutil\n",
        "import humanize\n",
        "import os\n",
        "import GPUtil as GPU\n",
        "GPUs = GPU.getGPUs()\n",
        "# XXX: only one GPU on Colab and isn’t guaranteed\n",
        "gpu = GPUs[0]\n",
        "def printm():\n",
        "  process = psutil.Process(os.getpid())\n",
        "  print(\"Gen RAM Free: \" + humanize.naturalsize( psutil.virtual_memory().available ), \" | Proc size: \" + humanize.naturalsize( process.memory_info().rss))\n",
        "  print(\"GPU RAM Free: {0:.0f}MB | Used: {1:.0f}MB | Util {2:3.0f}% | Total {3:.0f}MB\".format(gpu.memoryFree, gpu.memoryUsed, gpu.memoryUtil*100, gpu.memoryTotal))\n",
        "printm() "
      ],
      "execution_count": 0,
      "outputs": [
        {
          "output_type": "stream",
          "text": [
            "Collecting gputil\n",
            "  Downloading https://files.pythonhosted.org/packages/ed/0e/5c61eedde9f6c87713e89d794f01e378cfd9565847d4576fa627d758c554/GPUtil-1.4.0.tar.gz\n",
            "Building wheels for collected packages: gputil\n",
            "  Building wheel for gputil (setup.py) ... \u001b[?25l\u001b[?25hdone\n",
            "  Created wheel for gputil: filename=GPUtil-1.4.0-cp36-none-any.whl size=7411 sha256=aaf5599afa5f96955b9f580ade2d4dc75e517e4cb1f529e192fc28d707463854\n",
            "  Stored in directory: /root/.cache/pip/wheels/3d/77/07/80562de4bb0786e5ea186911a2c831fdd0018bda69beab71fd\n",
            "Successfully built gputil\n",
            "Installing collected packages: gputil\n",
            "Successfully installed gputil-1.4.0\n",
            "Requirement already satisfied: psutil in /usr/local/lib/python3.6/dist-packages (5.4.8)\n",
            "Requirement already satisfied: humanize in /usr/local/lib/python3.6/dist-packages (0.5.1)\n",
            "Gen RAM Free: 12.9 GB  | Proc size: 154.2 MB\n",
            "GPU RAM Free: 11441MB | Used: 0MB | Util   0% | Total 11441MB\n"
          ],
          "name": "stdout"
        }
      ]
    },
    {
      "cell_type": "markdown",
      "metadata": {
        "id": "EGR08pEiIidh",
        "colab_type": "text"
      },
      "source": [
        "###Import Trained Models"
      ]
    },
    {
      "cell_type": "code",
      "metadata": {
        "id": "iLqNNaR-HtNB",
        "colab_type": "code",
        "colab": {}
      },
      "source": [
        "fridge = drive.CreateFile({'id': '1Zd6oD60cIRTHc-9YTXq9WyozPF6FifLE'}) \n",
        "fridge.GetContentFile('fridge.h5')\n",
        "    \n",
        "kettle = drive.CreateFile({'id': '10n45jsCVD-mC_GhRsKsJMeyU4Su2RG5Q'}) \n",
        "kettle.GetContentFile('kettle.h5')\n",
        "\n",
        "washing_machine = drive.CreateFile({'id': '1eLPClsxSAi2P_DQq4_EePPE3xSMgC5Hf'}) \n",
        "washing_machine.GetContentFile('wm.h5')\n",
        "\n",
        "dishwasher = drive.CreateFile({'id': '1TTQRdgGvwrYBIgkYBRRpl-J5sfn9BbEY'}) \n",
        "dishwasher.GetContentFile('dw.h5')\n",
        "\n",
        "microwave = drive.CreateFile({'id': '1b4Y2FAACsNr_fmD5HzQES___CawYWqbf'}) \n",
        "microwave.GetContentFile('mw.h5')"
      ],
      "execution_count": 0,
      "outputs": []
    },
    {
      "cell_type": "code",
      "metadata": {
        "id": "qEn5O6nDF4-L",
        "colab_type": "code",
        "outputId": "283d4872-9747-4327-8468-86c93d7d35dc",
        "colab": {
          "base_uri": "https://localhost:8080/",
          "height": 309
        }
      },
      "source": [
        "import pandas as pd\n",
        "import numpy as np\n",
        "import matplotlib.pyplot as plt\n",
        "import datetime \n",
        "\n",
        "import keras\n",
        "from keras.models import Sequential, load_model, Model\n",
        "from keras.layers import Dense, Dropout, Activation, Flatten, Conv1D, MaxPooling1D \n",
        "from keras.layers import BatchNormalization, Input, Add\n",
        "from keras.optimizers import Adam\n",
        "from keras.callbacks import EarlyStopping\n",
        "\n",
        "model = load_model('simo.h5')"
      ],
      "execution_count": 0,
      "outputs": [
        {
          "output_type": "stream",
          "text": [
            "Using TensorFlow backend.\n",
            "WARNING: Logging before flag parsing goes to stderr.\n",
            "W0803 15:28:05.786283 140638919251840 deprecation_wrapper.py:119] From /usr/local/lib/python3.6/dist-packages/keras/backend/tensorflow_backend.py:517: The name tf.placeholder is deprecated. Please use tf.compat.v1.placeholder instead.\n",
            "\n",
            "W0803 15:28:05.881758 140638919251840 deprecation_wrapper.py:119] From /usr/local/lib/python3.6/dist-packages/keras/backend/tensorflow_backend.py:131: The name tf.get_default_graph is deprecated. Please use tf.compat.v1.get_default_graph instead.\n",
            "\n",
            "W0803 15:28:05.883229 140638919251840 deprecation_wrapper.py:119] From /usr/local/lib/python3.6/dist-packages/keras/backend/tensorflow_backend.py:133: The name tf.placeholder_with_default is deprecated. Please use tf.compat.v1.placeholder_with_default instead.\n",
            "\n",
            "W0803 15:28:05.906730 140638919251840 deprecation_wrapper.py:119] From /usr/local/lib/python3.6/dist-packages/keras/backend/tensorflow_backend.py:4138: The name tf.random_uniform is deprecated. Please use tf.random.uniform instead.\n",
            "\n",
            "W0803 15:28:06.210879 140638919251840 deprecation_wrapper.py:119] From /usr/local/lib/python3.6/dist-packages/keras/backend/tensorflow_backend.py:3976: The name tf.nn.max_pool is deprecated. Please use tf.nn.max_pool2d instead.\n",
            "\n",
            "W0803 15:28:14.466564 140638919251840 deprecation_wrapper.py:119] From /usr/local/lib/python3.6/dist-packages/keras/backend/tensorflow_backend.py:174: The name tf.get_default_session is deprecated. Please use tf.compat.v1.get_default_session instead.\n",
            "\n",
            "W0803 15:28:17.471910 140638919251840 deprecation_wrapper.py:119] From /usr/local/lib/python3.6/dist-packages/keras/optimizers.py:790: The name tf.train.Optimizer is deprecated. Please use tf.compat.v1.train.Optimizer instead.\n",
            "\n"
          ],
          "name": "stderr"
        }
      ]
    },
    {
      "cell_type": "markdown",
      "metadata": {
        "id": "BWTTUxmydvsP",
        "colab_type": "text"
      },
      "source": [
        "###Create functions to load house data, extract sequences, and select appliance midpoints\n",
        "\n"
      ]
    },
    {
      "cell_type": "code",
      "metadata": {
        "id": "B_2mwpw1Ww5X",
        "colab_type": "code",
        "colab": {}
      },
      "source": [
        "# Import house_key.py file which contains the id, and appliance numbers for every house.\n",
        "house_key = drive.CreateFile({'id':'1IMYUxdxVtPfh0xrnef8--MoahwnANwgW'})\n",
        "house_key.GetContentFile('house_key.py')\n",
        "import house_key\n",
        "\n",
        "house_info = house_key.make_house_info()\n",
        "\n",
        "def import_house_data(selected_houses, appliance, house_info):\n",
        "  '''Import raw house data from Drive. Resample to 1 minute intervals.\n",
        "     Extract the aggregate and target appliance columns and place in\n",
        "     a dataframe. Append each house to the end of the previous df.'''\n",
        "  df = pd.DataFrame(columns = ['Aggregate'] + appliances)\n",
        "  for house in selected_houses:\n",
        "    id = house_info[house]['id']\n",
        "    downloaded = drive.CreateFile({'id':id}) \n",
        "    downloaded.GetContentFile(f'house{house}.csv')\n",
        "    house_df = pd.read_csv(f'house{house}.csv', parse_dates=['Time'], index_col='Time').drop(['Unix', 'Issues'], axis = 1).resample('min').mean()\n",
        "    house_df = house_df[['Aggregate']+[j for i, j in house_info[house].items() if i in appliances]].dropna()\n",
        "    house_df.rename(columns={house_info[house][appliances[i]]:appliances[i] for i in range(len(appliances))}, inplace=True)\n",
        "    df = df.append(house_df, sort = False)\n",
        "  return df                              \n",
        "                        \n",
        "def make_sequences(df, n_steps):\n",
        "  \"\"\"Creates list of sequences of length n_steps\n",
        "     that walks forward one timestep at a time\"\"\" \n",
        "  input_list = list(df['Aggregate'])\n",
        "  output_list = []\n",
        "  for i in range(len(input_list)):\n",
        "    end_ix = i + n_steps\n",
        "    if end_ix > len(input_list):\n",
        "      break\n",
        "    seq = input_list[i:end_ix]\n",
        "    output_list.append(seq)\n",
        "  X = np.array(output_list) \n",
        "  X = X.reshape(X.shape[0], X.shape[1], 1)\n",
        "  return X\n",
        "\n",
        "def get_midpoints(df, n_steps):\n",
        "  '''Gets midpoints of a sliding sequence. Also gets midpoint of the sum of all selected appliances'''\n",
        "  df_mid = df.iloc[n_steps//2:len(df)-n_steps//2, :]\n",
        "  df_mid['Sum_of_appliances'] = df_mid['Aggregate'] - df_mid['Dishwasher'] - df_mid['Washing Machine'] - df_mid['Fridge'] - df_mid['Microwave']-df_mid['Kettle']\n",
        "  app_df = df_mid.loc[:,['Dishwasher', 'Washing Machine', 'Fridge', 'Microwave', 'Kettle', 'Sum_of_appliances']]\n",
        "  y = [np.array([app_df.loc[:,'Dishwasher']]), np.array([app_df.loc[:,'Washing Machine']]), np.array([app_df.loc[:,'Fridge']]), np.array([app_df.loc[:,'Microwave']]), np.array([app_df.loc[:,'Kettle']]), np.array([app_df.loc[:,'Sum_of_appliances']])]\n",
        "  y_out = [] \n",
        "  for i in y:\n",
        "    i = i.reshape(i.shape[1], i.shape[0])\n",
        "    y_out.append(i)\n",
        "  return y_out"
      ],
      "execution_count": 0,
      "outputs": []
    },
    {
      "cell_type": "markdown",
      "metadata": {
        "id": "yzoyPCL-x5yy",
        "colab_type": "text"
      },
      "source": [
        "![appliance list](https://drive.google.com/uc?export=view&id=12fOrgu6KKoICpQMSgtXm-Bi89_dafH12) "
      ]
    },
    {
      "cell_type": "markdown",
      "metadata": {
        "id": "-zhabXNjxR8B",
        "colab_type": "text"
      },
      "source": [
        "## *REQUIRES INPUT* Specify target appliance and training/test houses. Import data for selected houses"
      ]
    },
    {
      "cell_type": "code",
      "metadata": {
        "id": "tSUNJCzkx5IH",
        "colab_type": "code",
        "colab": {}
      },
      "source": [
        "appliances = ['Dishwasher', 'Washing Machine', 'Fridge', 'Microwave', 'Kettle']   #list of strings with first letters capitalized\n",
        "\n",
        "# Use houses 2,3,9,11,15, or 20\n",
        "training_houses = [15]    # must be a list of integers\n",
        "test_house = [3]              # must be a list of integers             \n",
        "n_steps = 199                  # length of sliding window. Should be an odd number\n",
        "\n",
        "# Imports house data for target appliance and places in dataframes\n",
        "df_train = import_house_data(training_houses, appliances, house_info)\n",
        "df_test = import_house_data(test_house, appliances, house_info)"
      ],
      "execution_count": 0,
      "outputs": []
    },
    {
      "cell_type": "markdown",
      "metadata": {
        "id": "f_0ZKWyoigmj",
        "colab_type": "text"
      },
      "source": [
        "###Create training and test input sequences and target appliance midpoints"
      ]
    },
    {
      "cell_type": "code",
      "metadata": {
        "id": "7T3XdjaCO-JE",
        "colab_type": "code",
        "outputId": "a3b0a0a9-eb81-43e3-9267-e0edb7fa4c53",
        "colab": {
          "base_uri": "https://localhost:8080/",
          "height": 102
        }
      },
      "source": [
        "# Training sequences and midpoints\n",
        "X_train = make_sequences(df_train, n_steps) \n",
        "y_train = get_midpoints(df_train, n_steps)\n",
        "\n",
        "# Test sequences and midpoints\n",
        "X_test = make_sequences(df_test, n_steps) \n",
        "y_test = get_midpoints(df_test, n_steps)"
      ],
      "execution_count": 0,
      "outputs": [
        {
          "output_type": "stream",
          "text": [
            "/usr/local/lib/python3.6/dist-packages/ipykernel_launcher.py:40: SettingWithCopyWarning: \n",
            "A value is trying to be set on a copy of a slice from a DataFrame.\n",
            "Try using .loc[row_indexer,col_indexer] = value instead\n",
            "\n",
            "See the caveats in the documentation: http://pandas.pydata.org/pandas-docs/stable/indexing.html#indexing-view-versus-copy\n"
          ],
          "name": "stderr"
        }
      ]
    },
    {
      "cell_type": "code",
      "metadata": {
        "id": "JPuAQY-neYGr",
        "colab_type": "code",
        "colab": {}
      },
      "source": [
        "import keras\n",
        "from keras.models import Sequential, load_model, Model\n",
        "from keras.layers import Dense, Dropout, Activation, Flatten, Conv1D, MaxPooling1D \n",
        "from keras.layers import BatchNormalization, Input, Add\n",
        "from keras.optimizers import Adam\n",
        "from keras.callbacks import EarlyStopping\n",
        "\n",
        "def build_ensemble():\n",
        "  input = Input(shape=(n_steps, 1))\n",
        "  appliance1 = load_model('dw.h5')\n",
        "  appliance1.name = 'dw'\n",
        "  appliance2 = load_model('wm.h5')\n",
        "  appliance2.name = 'wm'\n",
        "  appliance3 = load_model('fridge.h5')\n",
        "  appliance3.name = 'fr'\n",
        "  appliance4 = load_model('mw.h5')\n",
        "  appliance4.name = 'mw'\n",
        "  appliance5 = load_model('kettle.h5')\n",
        "  appliance5.name = 'ket'\n",
        "  \n",
        "  out1 = appliance1(input)\n",
        "  out1 = Dense(1, activation = 'relu', name = 'dishwasher')(out1)\n",
        "  out2 = appliance2(input)\n",
        "  out2 = Dense(1, activation = 'relu', name = 'washing_machine')(out2)\n",
        "  out3 = appliance3(input)\n",
        "  out3 = Dense(1, activation = 'relu', name = 'fridge')(out3)\n",
        "  out4 = appliance4(input)\n",
        "  out4 = Dense(1, activation = 'relu', name = 'microwave')(out4)\n",
        "  out5 = appliance5(input)\n",
        "  out5 = Dense(1, activation = 'relu', name = 'kettle')(out5)\n",
        "  \n",
        "  total = Add()([out1,out2,out3,out4,out5])\n",
        "\n",
        "  model = Model(input, [out1,out2,out3,out4,out5,total])\n",
        "  \n",
        "  loss_weights = [1.0, 1.0, 0.1, 1.0, 1.0, 0.5]\n",
        "\n",
        "  adam = Adam(lr=0.001, beta_1=0.9, beta_2=0.999, epsilon=0.00000008, decay=0.0, amsgrad=False)\n",
        "  model.compile(loss='mse', optimizer=adam, loss_weights=loss_weights, metrics=['mae'])\n",
        "  return model"
      ],
      "execution_count": 0,
      "outputs": []
    },
    {
      "cell_type": "code",
      "metadata": {
        "id": "hIPCuVrwjHUK",
        "colab_type": "code",
        "colab": {}
      },
      "source": [
        "model = build_ensemble()"
      ],
      "execution_count": 0,
      "outputs": []
    },
    {
      "cell_type": "code",
      "metadata": {
        "id": "oorY2i-hEv2u",
        "colab_type": "code",
        "colab": {}
      },
      "source": [
        ""
      ],
      "execution_count": 0,
      "outputs": []
    },
    {
      "cell_type": "code",
      "metadata": {
        "id": "7J9Mti0LUYtG",
        "colab_type": "code",
        "outputId": "6810fb1b-1847-402b-f19e-4fd6d5142477",
        "colab": {
          "base_uri": "https://localhost:8080/"
        }
      },
      "source": [
        "model.summary()"
      ],
      "execution_count": 0,
      "outputs": [
        {
          "output_type": "stream",
          "text": [
            "__________________________________________________________________________________________________\n",
            "Layer (type)                    Output Shape         Param #     Connected to                     \n",
            "==================================================================================================\n",
            "input_4 (InputLayer)            (None, 199, 1)       0                                            \n",
            "__________________________________________________________________________________________________\n",
            "dw (Sequential)                 (None, 1)            968643      input_4[0][0]                    \n",
            "__________________________________________________________________________________________________\n",
            "wm (Sequential)                 (None, 1)            968643      input_4[0][0]                    \n",
            "__________________________________________________________________________________________________\n",
            "fr (Sequential)                 (None, 1)            968643      input_4[0][0]                    \n",
            "__________________________________________________________________________________________________\n",
            "mw (Sequential)                 (None, 1)            968643      input_4[0][0]                    \n",
            "__________________________________________________________________________________________________\n",
            "ket (Sequential)                (None, 1)            968643      input_4[0][0]                    \n",
            "__________________________________________________________________________________________________\n",
            "dishwasher (Dense)              (None, 1)            2           dw[1][0]                         \n",
            "__________________________________________________________________________________________________\n",
            "washing_machine (Dense)         (None, 1)            2           wm[1][0]                         \n",
            "__________________________________________________________________________________________________\n",
            "fridge (Dense)                  (None, 1)            2           fr[1][0]                         \n",
            "__________________________________________________________________________________________________\n",
            "microwave (Dense)               (None, 1)            2           mw[1][0]                         \n",
            "__________________________________________________________________________________________________\n",
            "kettle (Dense)                  (None, 1)            2           ket[1][0]                        \n",
            "__________________________________________________________________________________________________\n",
            "add_2 (Add)                     (None, 1)            0           dishwasher[0][0]                 \n",
            "                                                                 washing_machine[0][0]            \n",
            "                                                                 fridge[0][0]                     \n",
            "                                                                 microwave[0][0]                  \n",
            "                                                                 kettle[0][0]                     \n",
            "==================================================================================================\n",
            "Total params: 4,843,225\n",
            "Trainable params: 4,840,715\n",
            "Non-trainable params: 2,510\n",
            "__________________________________________________________________________________________________\n"
          ],
          "name": "stdout"
        }
      ]
    },
    {
      "cell_type": "markdown",
      "metadata": {
        "id": "GpG8UCHy2jb8",
        "colab_type": "text"
      },
      "source": [
        "#"
      ]
    },
    {
      "cell_type": "markdown",
      "metadata": {
        "id": "ik4BIbE52kCA",
        "colab_type": "text"
      },
      "source": [
        "###Train Model"
      ]
    },
    {
      "cell_type": "code",
      "metadata": {
        "colab_type": "code",
        "outputId": "a989ebd8-2279-489f-e80f-7c7ed2552fa8",
        "id": "TocsVowMmwhN",
        "colab": {
          "base_uri": "https://localhost:8080/",
          "height": 514
        }
      },
      "source": [
        "batch_size = 1000\n",
        "epochs = 30\n",
        "\n",
        "early_stop = EarlyStopping(monitor='add_1_mean_absolute_error', min_delta=0.2, patience=3, verbose=0, mode='auto', baseline=None, restore_best_weights=False)\n",
        "history = model.fit(X_train, y_train, batch_size = batch_size, epochs = epochs, verbose=1, callbacks=[early_stop])\n",
        "\n",
        "model.save('simo_cnn.h5')"
      ],
      "execution_count": 0,
      "outputs": [
        {
          "output_type": "stream",
          "text": [
            "Epoch 1/30\n",
            "705183/705183 [==============================] - 322s 457us/step - loss: 34367.1938 - dishwasher_loss: 1310.9503 - washing_machine_loss: 7839.6932 - fridge_loss: 22843.1349 - microwave_loss: 1453.3755 - kettle_loss: 7729.3559 - add_2_loss: 27499.0109 - dishwasher_mean_absolute_error: 13.5193 - washing_machine_mean_absolute_error: 20.3962 - fridge_mean_absolute_error: 102.3143 - microwave_mean_absolute_error: 10.8239 - kettle_mean_absolute_error: 8.7354 - add_2_mean_absolute_error: 55.7383\n",
            "Epoch 2/30\n"
          ],
          "name": "stdout"
        },
        {
          "output_type": "stream",
          "text": [
            "/usr/local/lib/python3.6/dist-packages/keras/callbacks.py:569: RuntimeWarning: Early stopping conditioned on metric `add_1_mean_absolute_error` which is not available. Available metrics are: loss,dishwasher_loss,washing_machine_loss,fridge_loss,microwave_loss,kettle_loss,add_2_loss,dishwasher_mean_absolute_error,washing_machine_mean_absolute_error,fridge_mean_absolute_error,microwave_mean_absolute_error,kettle_mean_absolute_error,add_2_mean_absolute_error\n",
            "  (self.monitor, ','.join(list(logs.keys()))), RuntimeWarning\n"
          ],
          "name": "stderr"
        },
        {
          "output_type": "stream",
          "text": [
            "705183/705183 [==============================] - 302s 428us/step - loss: 25096.2044 - dishwasher_loss: 687.3353 - washing_machine_loss: 4336.4303 - fridge_loss: 23774.2432 - microwave_loss: 877.6351 - kettle_loss: 4340.9900 - add_2_loss: 24952.7785 - dishwasher_mean_absolute_error: 10.4536 - washing_machine_mean_absolute_error: 17.2446 - fridge_mean_absolute_error: 104.0667 - microwave_mean_absolute_error: 11.4657 - kettle_mean_absolute_error: 13.7807 - add_2_mean_absolute_error: 47.4100\n",
            "Epoch 3/30\n",
            "705183/705183 [==============================] - 301s 427us/step - loss: 23763.2498 - dishwasher_loss: 636.3151 - washing_machine_loss: 3818.0403 - fridge_loss: 23605.5524 - microwave_loss: 739.1384 - kettle_loss: 3991.3820 - add_2_loss: 24435.6376 - dishwasher_mean_absolute_error: 10.4257 - washing_machine_mean_absolute_error: 16.6469 - fridge_mean_absolute_error: 104.1898 - microwave_mean_absolute_error: 11.3049 - kettle_mean_absolute_error: 14.0252 - add_2_mean_absolute_error: 45.8875\n",
            "Epoch 4/30\n",
            "705183/705183 [==============================] - 301s 427us/step - loss: 23032.6995 - dishwasher_loss: 633.1651 - washing_machine_loss: 3533.3029 - fridge_loss: 23485.6613 - microwave_loss: 663.7246 - kettle_loss: 3782.4662 - add_2_loss: 24142.9493 - dishwasher_mean_absolute_error: 10.3861 - washing_machine_mean_absolute_error: 16.3237 - fridge_mean_absolute_error: 104.2733 - microwave_mean_absolute_error: 11.1993 - kettle_mean_absolute_error: 13.9773 - add_2_mean_absolute_error: 45.0628\n",
            "Epoch 5/30\n",
            "705183/705183 [==============================] - 301s 427us/step - loss: 22537.2479 - dishwasher_loss: 588.4402 - washing_machine_loss: 3368.3623 - fridge_loss: 23425.7398 - microwave_loss: 638.1984 - kettle_loss: 3627.5345 - add_2_loss: 23944.2768 - dishwasher_mean_absolute_error: 10.4092 - washing_machine_mean_absolute_error: 16.0989 - fridge_mean_absolute_error: 104.3441 - microwave_mean_absolute_error: 11.1235 - kettle_mean_absolute_error: 13.9806 - add_2_mean_absolute_error: 44.4278\n",
            "Epoch 6/30\n",
            "705183/705183 [==============================] - 302s 428us/step - loss: 22212.7664 - dishwasher_loss: 574.4851 - washing_machine_loss: 3254.1079 - fridge_loss: 23367.8551 - microwave_loss: 600.6324 - kettle_loss: 3537.6419 - add_2_loss: 23818.2272 - dishwasher_mean_absolute_error: 10.3886 - washing_machine_mean_absolute_error: 15.9382 - fridge_mean_absolute_error: 104.3367 - microwave_mean_absolute_error: 11.0890 - kettle_mean_absolute_error: 13.9698 - add_2_mean_absolute_error: 44.0163\n",
            "Epoch 7/30\n",
            "705183/705183 [==============================] - 301s 427us/step - loss: 21970.1867 - dishwasher_loss: 566.8347 - washing_machine_loss: 3173.7849 - fridge_loss: 23480.1683 - microwave_loss: 590.4175 - kettle_loss: 3482.3953 - add_2_loss: 23617.4749 - dishwasher_mean_absolute_error: 10.4032 - washing_machine_mean_absolute_error: 15.8111 - fridge_mean_absolute_error: 104.4665 - microwave_mean_absolute_error: 11.0808 - kettle_mean_absolute_error: 13.9403 - add_2_mean_absolute_error: 43.5485\n",
            "Epoch 8/30\n",
            "705183/705183 [==============================] - 301s 427us/step - loss: 21798.0978 - dishwasher_loss: 561.8652 - washing_machine_loss: 3130.1067 - fridge_loss: 23480.6770 - microwave_loss: 577.6100 - kettle_loss: 3423.3195 - add_2_loss: 23514.2573 - dishwasher_mean_absolute_error: 10.4120 - washing_machine_mean_absolute_error: 15.7088 - fridge_mean_absolute_error: 104.5057 - microwave_mean_absolute_error: 11.0773 - kettle_mean_absolute_error: 13.9383 - add_2_mean_absolute_error: 43.2456\n",
            "Epoch 9/30\n",
            "705183/705183 [==============================] - 302s 428us/step - loss: 21649.7543 - dishwasher_loss: 564.8035 - washing_machine_loss: 3082.1112 - fridge_loss: 23561.5320 - microwave_loss: 561.0284 - kettle_loss: 3400.9707 - add_2_loss: 23369.3743 - dishwasher_mean_absolute_error: 10.3910 - washing_machine_mean_absolute_error: 15.6427 - fridge_mean_absolute_error: 104.5679 - microwave_mean_absolute_error: 11.0502 - kettle_mean_absolute_error: 13.9563 - add_2_mean_absolute_error: 42.9123\n",
            "Epoch 10/30\n",
            "705183/705183 [==============================] - 301s 427us/step - loss: 21503.3630 - dishwasher_loss: 563.3876 - washing_machine_loss: 3045.8406 - fridge_loss: 23585.4457 - microwave_loss: 548.0837 - kettle_loss: 3333.1513 - add_2_loss: 23308.7105 - dishwasher_mean_absolute_error: 10.4411 - washing_machine_mean_absolute_error: 15.5837 - fridge_mean_absolute_error: 104.5682 - microwave_mean_absolute_error: 11.0123 - kettle_mean_absolute_error: 13.9272 - add_2_mean_absolute_error: 42.7041\n",
            "Epoch 11/30\n",
            "705183/705183 [==============================] - 304s 431us/step - loss: 21408.9822 - dishwasher_loss: 558.6898 - washing_machine_loss: 3017.7144 - fridge_loss: 23644.4037 - microwave_loss: 536.6008 - kettle_loss: 3333.5498 - add_2_loss: 23195.9740 - dishwasher_mean_absolute_error: 10.4385 - washing_machine_mean_absolute_error: 15.4898 - fridge_mean_absolute_error: 104.6861 - microwave_mean_absolute_error: 10.9980 - kettle_mean_absolute_error: 13.9312 - add_2_mean_absolute_error: 42.4444\n",
            "Epoch 12/30\n",
            "705183/705183 [==============================] - 305s 432us/step - loss: 21294.6514 - dishwasher_loss: 551.7142 - washing_machine_loss: 2990.1748 - fridge_loss: 23650.5138 - microwave_loss: 523.9336 - kettle_loss: 3297.5749 - add_2_loss: 23132.4049 - dishwasher_mean_absolute_error: 10.4525 - washing_machine_mean_absolute_error: 15.4662 - fridge_mean_absolute_error: 104.6579 - microwave_mean_absolute_error: 11.0027 - kettle_mean_absolute_error: 13.9085 - add_2_mean_absolute_error: 42.2610\n",
            "Epoch 13/30\n",
            "705183/705183 [==============================] - 305s 432us/step - loss: 21240.6011 - dishwasher_loss: 546.0010 - washing_machine_loss: 2980.1519 - fridge_loss: 23639.3090 - microwave_loss: 521.2154 - kettle_loss: 3274.6832 - add_2_loss: 23109.2373 - dishwasher_mean_absolute_error: 10.4511 - washing_machine_mean_absolute_error: 15.4323 - fridge_mean_absolute_error: 104.6840 - microwave_mean_absolute_error: 10.9688 - kettle_mean_absolute_error: 13.9144 - add_2_mean_absolute_error: 42.0894\n",
            "Epoch 14/30\n",
            "705183/705183 [==============================] - 305s 433us/step - loss: 21148.9409 - dishwasher_loss: 542.6957 - washing_machine_loss: 2967.4741 - fridge_loss: 23740.0775 - microwave_loss: 513.5554 - kettle_loss: 3266.9603 - add_2_loss: 22968.4952 - dishwasher_mean_absolute_error: 10.4484 - washing_machine_mean_absolute_error: 15.3975 - fridge_mean_absolute_error: 104.7817 - microwave_mean_absolute_error: 10.9631 - kettle_mean_absolute_error: 13.8919 - add_2_mean_absolute_error: 41.8520\n",
            "Epoch 15/30\n",
            "705183/705183 [==============================] - 305s 433us/step - loss: 21102.8358 - dishwasher_loss: 539.9372 - washing_machine_loss: 2964.8513 - fridge_loss: 23765.4080 - microwave_loss: 507.7085 - kettle_loss: 3226.3288 - add_2_loss: 22974.9384 - dishwasher_mean_absolute_error: 10.4631 - washing_machine_mean_absolute_error: 15.3758 - fridge_mean_absolute_error: 104.8195 - microwave_mean_absolute_error: 10.9529 - kettle_mean_absolute_error: 13.8703 - add_2_mean_absolute_error: 41.7377\n",
            "Epoch 16/30\n",
            "705183/705183 [==============================] - 306s 434us/step - loss: 21031.6059 - dishwasher_loss: 540.8548 - washing_machine_loss: 2936.3121 - fridge_loss: 23790.2747 - microwave_loss: 500.9950 - kettle_loss: 3212.8610 - add_2_loss: 22923.1110 - dishwasher_mean_absolute_error: 10.4701 - washing_machine_mean_absolute_error: 15.3421 - fridge_mean_absolute_error: 104.7845 - microwave_mean_absolute_error: 10.9613 - kettle_mean_absolute_error: 13.8797 - add_2_mean_absolute_error: 41.5976\n",
            "Epoch 17/30\n",
            "585000/705183 [=======================>......] - ETA: 52s - loss: 20757.4618 - dishwasher_loss: 532.0731 - washing_machine_loss: 2906.6441 - fridge_loss: 23810.0081 - microwave_loss: 484.2006 - kettle_loss: 3173.6490 - add_2_loss: 22559.7885 - dishwasher_mean_absolute_error: 10.4889 - washing_machine_mean_absolute_error: 15.2723 - fridge_mean_absolute_error: 104.8149 - microwave_mean_absolute_error: 10.9155 - kettle_mean_absolute_error: 13.8277 - add_2_mean_absolute_error: 41.2225"
          ],
          "name": "stdout"
        }
      ]
    },
    {
      "cell_type": "markdown",
      "metadata": {
        "id": "oq1kuXPwegi5",
        "colab_type": "text"
      },
      "source": [
        "###Plot loss"
      ]
    },
    {
      "cell_type": "code",
      "metadata": {
        "id": "EDBYfooJef6j",
        "colab_type": "code",
        "colab": {}
      },
      "source": [
        "plt.plot(history.history['loss'])\n",
        "plt.title('model loss')\n",
        "plt.ylabel('loss')\n",
        "plt.xlabel('epoch')\n",
        "plt.legend(['train', 'test'], loc='upper left')\n",
        "plt.show()\n",
        "plt.savefig('model_loss.png')"
      ],
      "execution_count": 0,
      "outputs": []
    },
    {
      "cell_type": "markdown",
      "metadata": {
        "id": "AltWmeMRkYMi",
        "colab_type": "text"
      },
      "source": [
        "### Predict Appliance load using aggregate"
      ]
    },
    {
      "cell_type": "code",
      "metadata": {
        "id": "vclG4dRbVT5H",
        "colab_type": "code",
        "colab": {}
      },
      "source": [
        "y_hat_test = model.predict(X_test)"
      ],
      "execution_count": 0,
      "outputs": []
    },
    {
      "cell_type": "code",
      "metadata": {
        "id": "sVZN6iJzfej1",
        "colab_type": "code",
        "outputId": "583bdff6-9163-4284-b287-e7693e278402",
        "colab": {
          "base_uri": "https://localhost:8080/",
          "height": 34
        }
      },
      "source": [
        "y_hat_test[1].shape"
      ],
      "execution_count": 0,
      "outputs": [
        {
          "output_type": "execute_result",
          "data": {
            "text/plain": [
              "(669966, 1)"
            ]
          },
          "metadata": {
            "tags": []
          },
          "execution_count": 32
        }
      ]
    },
    {
      "cell_type": "markdown",
      "metadata": {
        "id": "sBbfDh2YkTsj",
        "colab_type": "text"
      },
      "source": [
        "###Reshape appliance predictions for plotting"
      ]
    },
    {
      "cell_type": "code",
      "metadata": {
        "id": "b650ae1ffNVi",
        "colab_type": "code",
        "colab": {}
      },
      "source": [
        "fridge_out = fridge.reshape(fridge.shape[0])\n",
        "kettle_out = kettle.reshape(kettle.shape[0])\n",
        "dw_out = dw.reshape(dw.shape[0])\n",
        "wm_out = wm.reshape(wm.shape[0])\n",
        "mw_out = mw.reshape(mw.shape[0])\n"
      ],
      "execution_count": 0,
      "outputs": []
    },
    {
      "cell_type": "markdown",
      "metadata": {
        "id": "HDfmYmWWkOdq",
        "colab_type": "text"
      },
      "source": [
        "###Get aggregate for range of appliance predictions"
      ]
    },
    {
      "cell_type": "code",
      "metadata": {
        "id": "NQotSRQmjiUq",
        "colab_type": "code",
        "colab": {}
      },
      "source": [
        "aggregate = df_test.Aggregate[n_steps//2:len(df_test)-n_steps//2]"
      ],
      "execution_count": 0,
      "outputs": []
    },
    {
      "cell_type": "code",
      "metadata": {
        "id": "_DvTZV8mpp3h",
        "colab_type": "code",
        "colab": {}
      },
      "source": [
        "house_df = pd.read_csv('house2.csv', parse_dates=['Time'], index_col='Time').drop(['Unix', 'Issues'], axis = 1).resample('min').mean().dropna()"
      ],
      "execution_count": 0,
      "outputs": []
    },
    {
      "cell_type": "code",
      "metadata": {
        "id": "XkDgL590jlnD",
        "colab_type": "code",
        "colab": {}
      },
      "source": [
        "predictions = pd.DataFrame({'Aggregate': aggregate, \n",
        "                           'Fridge Predicted': fridge_out.astype('float64'), \n",
        "                           'Fridge Actual': house_df.Appliance1[n_steps//2:len(df_test)-n_steps//2],\n",
        "                           'Kettle Predicted': kettle_out.astype('float64'), \n",
        "                           'Kettle Actual': house_df.Appliance8[n_steps//2:len(df_test)-n_steps//2],\n",
        "                           'Dishwasher Predicted': dw_out.astype('float64'), \n",
        "                           'Dishwasher Actual': house_df.Appliance3[n_steps//2:len(df_test)-n_steps//2],\n",
        "                           'Washing Machine Predicted':wm_out.astype('float64'),\n",
        "                           'Washing Machine Actual': house_df.Appliance2[n_steps//2:len(df_test)-n_steps//2],\n",
        "                           'Microwave Predicted': mw_out.astype('float64'),\n",
        "                           'Microwave Actual': house_df.Appliance5[n_steps//2:len(df_test)-n_steps//2]\n",
        "                           }, index = house_df.index[n_steps//2:len(df_test)-n_steps//2])"
      ],
      "execution_count": 0,
      "outputs": []
    },
    {
      "cell_type": "code",
      "metadata": {
        "id": "Mdz_PDuMqY1s",
        "colab_type": "code",
        "outputId": "36deec56-944b-462d-b708-33f6a0d33d01",
        "colab": {
          "base_uri": "https://localhost:8080/",
          "height": 435
        }
      },
      "source": [
        "predictions.head()"
      ],
      "execution_count": 0,
      "outputs": [
        {
          "output_type": "execute_result",
          "data": {
            "text/html": [
              "<div>\n",
              "<style scoped>\n",
              "    .dataframe tbody tr th:only-of-type {\n",
              "        vertical-align: middle;\n",
              "    }\n",
              "\n",
              "    .dataframe tbody tr th {\n",
              "        vertical-align: top;\n",
              "    }\n",
              "\n",
              "    .dataframe thead th {\n",
              "        text-align: right;\n",
              "    }\n",
              "</style>\n",
              "<table border=\"1\" class=\"dataframe\">\n",
              "  <thead>\n",
              "    <tr style=\"text-align: right;\">\n",
              "      <th></th>\n",
              "      <th>Aggregate</th>\n",
              "      <th>Fridge Predicted</th>\n",
              "      <th>Fridge Actual</th>\n",
              "      <th>Kettle Predicted</th>\n",
              "      <th>Kettle Actual</th>\n",
              "      <th>Dishwasher Predicted</th>\n",
              "      <th>Dishwasher Actual</th>\n",
              "      <th>Washing Machine Predicted</th>\n",
              "      <th>Washing Machine Actual</th>\n",
              "      <th>Microwave Predicted</th>\n",
              "      <th>Microwave Actual</th>\n",
              "    </tr>\n",
              "    <tr>\n",
              "      <th>Time</th>\n",
              "      <th></th>\n",
              "      <th></th>\n",
              "      <th></th>\n",
              "      <th></th>\n",
              "      <th></th>\n",
              "      <th></th>\n",
              "      <th></th>\n",
              "      <th></th>\n",
              "      <th></th>\n",
              "      <th></th>\n",
              "      <th></th>\n",
              "    </tr>\n",
              "  </thead>\n",
              "  <tbody>\n",
              "    <tr>\n",
              "      <th>2013-09-17 23:47:00</th>\n",
              "      <td>59.8</td>\n",
              "      <td>-6.294378</td>\n",
              "      <td>1.0</td>\n",
              "      <td>0.026848</td>\n",
              "      <td>0.0</td>\n",
              "      <td>3.282708</td>\n",
              "      <td>0.0</td>\n",
              "      <td>-0.096836</td>\n",
              "      <td>0.0</td>\n",
              "      <td>1.380744</td>\n",
              "      <td>0.0</td>\n",
              "    </tr>\n",
              "    <tr>\n",
              "      <th>2013-09-17 23:48:00</th>\n",
              "      <td>59.3</td>\n",
              "      <td>-2.190085</td>\n",
              "      <td>1.0</td>\n",
              "      <td>0.026848</td>\n",
              "      <td>0.0</td>\n",
              "      <td>2.894361</td>\n",
              "      <td>0.0</td>\n",
              "      <td>-0.034335</td>\n",
              "      <td>0.0</td>\n",
              "      <td>1.330021</td>\n",
              "      <td>0.0</td>\n",
              "    </tr>\n",
              "    <tr>\n",
              "      <th>2013-09-17 23:49:00</th>\n",
              "      <td>59.6</td>\n",
              "      <td>-2.294460</td>\n",
              "      <td>1.0</td>\n",
              "      <td>0.026848</td>\n",
              "      <td>0.0</td>\n",
              "      <td>2.824863</td>\n",
              "      <td>0.0</td>\n",
              "      <td>-0.070783</td>\n",
              "      <td>0.0</td>\n",
              "      <td>1.329255</td>\n",
              "      <td>0.0</td>\n",
              "    </tr>\n",
              "    <tr>\n",
              "      <th>2013-09-17 23:50:00</th>\n",
              "      <td>60.0</td>\n",
              "      <td>1.677305</td>\n",
              "      <td>1.0</td>\n",
              "      <td>0.026848</td>\n",
              "      <td>0.0</td>\n",
              "      <td>2.699587</td>\n",
              "      <td>0.0</td>\n",
              "      <td>0.210027</td>\n",
              "      <td>0.0</td>\n",
              "      <td>1.254286</td>\n",
              "      <td>0.0</td>\n",
              "    </tr>\n",
              "    <tr>\n",
              "      <th>2013-09-17 23:51:00</th>\n",
              "      <td>59.8</td>\n",
              "      <td>2.741750</td>\n",
              "      <td>1.0</td>\n",
              "      <td>0.026848</td>\n",
              "      <td>0.0</td>\n",
              "      <td>2.863316</td>\n",
              "      <td>0.0</td>\n",
              "      <td>0.395533</td>\n",
              "      <td>0.0</td>\n",
              "      <td>1.240273</td>\n",
              "      <td>0.0</td>\n",
              "    </tr>\n",
              "  </tbody>\n",
              "</table>\n",
              "</div>"
            ],
            "text/plain": [
              "                     Aggregate  ...  Microwave Actual\n",
              "Time                            ...                  \n",
              "2013-09-17 23:47:00       59.8  ...               0.0\n",
              "2013-09-17 23:48:00       59.3  ...               0.0\n",
              "2013-09-17 23:49:00       59.6  ...               0.0\n",
              "2013-09-17 23:50:00       60.0  ...               0.0\n",
              "2013-09-17 23:51:00       59.8  ...               0.0\n",
              "\n",
              "[5 rows x 11 columns]"
            ]
          },
          "metadata": {
            "tags": []
          },
          "execution_count": 28
        }
      ]
    },
    {
      "cell_type": "code",
      "metadata": {
        "id": "2ot7vMeZkB2p",
        "colab_type": "code",
        "outputId": "307a4f5c-b8bb-4f12-de6f-2fd55bf1f4a0",
        "colab": {
          "base_uri": "https://localhost:8080/",
          "height": 284
        }
      },
      "source": [
        "predictions.plot()"
      ],
      "execution_count": 0,
      "outputs": [
        {
          "output_type": "execute_result",
          "data": {
            "text/plain": [
              "<matplotlib.axes._subplots.AxesSubplot at 0x7f75b87d7b70>"
            ]
          },
          "metadata": {
            "tags": []
          },
          "execution_count": 29
        },
        {
          "output_type": "display_data",
          "data": {
            "image/png": "[encoded data removed]",
            "text/plain": [
              "<Figure size 432x288 with 1 Axes>"
            ]
          },
          "metadata": {
            "tags": []
          }
        }
      ]
    },
    {
      "cell_type": "code",
      "metadata": {
        "id": "AVG83e-a9-5K",
        "colab_type": "code",
        "outputId": "bc6837d0-3bce-4771-ba07-5438630c224d",
        "colab": {
          "base_uri": "https://localhost:8080/",
          "height": 51
        }
      },
      "source": [
        "def get_mae(df):\n",
        "    df['abs_err']= np.abs(df.y_test-df.y_test_hat)\n",
        "    mae = np.round(df.abs_err.sum()/len(df),2)\n",
        "    print(f'Mean absolute error: {mae}')\n",
        "    return mae\n",
        "\n",
        "def get_sae(df):\n",
        "    r = df.y_test.sum()\n",
        "    r_hat = df.y_test_hat.sum()\n",
        "    sae = np.round(np.abs(r_hat-r)/r, 4)\n",
        "    print(f'Signal Aggregate Error: {sae}')\n",
        "    return sae\n",
        "  \n",
        "def get_epd(df_test, y_hat_test_out):\n",
        "    app_test_df = df_test.Appliance[n_steps//2:len(df_test)-n_steps//2]\n",
        "    df_out =  pd.DataFrame({'Test':app_test_df,'Predicted':y_hat_test_out,}, index=app_test_df.index)\n",
        "    df_out = df_out.resample('D').sum()/60\n",
        "    df_out['EPD'] = np.abs(df_out.Test-df_out.Predicted)\n",
        "    epd = np.round(df_out.EPD.sum()/len(df_out), 2)\n",
        "    print(f'Average Energy Per Day Error (EPD, W-hr): {epd}')\n",
        "    return epd  \n",
        "  \n",
        "#y_hat_out = y_hat.reshape(y_hat.shape[0])\n",
        "y_hat_test_out = y_hat_test.reshape(y_hat_test.shape[0])\n",
        "\n",
        "#y_train_out = y_train.reshape(y_train.shape[0])\n",
        "y_test_out = y_test.reshape(y_test.shape[0])\n",
        "\n",
        "#train_results = pd.DataFrame({'y_train':y_train_out, 'y_hat_train': y_hat_train_out})\n",
        "test_results = pd.DataFrame({'y_test': y_test_out, 'y_test_hat': y_hat_test_out})\n",
        "  \n",
        "mae = get_mae(test_results)\n",
        "sae = get_sae(test_results)\n",
        "epd = get_epd(df_test, y_hat_test_out)"
      ],
      "execution_count": 0,
      "outputs": [
        {
          "output_type": "stream",
          "text": [
            "Mean absolute error: 80.75\n",
            "Signal Aggregate Error: 0.3983\n"
          ],
          "name": "stdout"
        }
      ]
    },
    {
      "cell_type": "markdown",
      "metadata": {
        "id": "l8KprCsmLPU9",
        "colab_type": "text"
      },
      "source": [
        "### Export test data as CSV file"
      ]
    },
    {
      "cell_type": "code",
      "metadata": {
        "id": "i6sznPf8_Qf7",
        "colab_type": "code",
        "colab": {}
      },
      "source": [
        "#train_csv = train_results.to_csv('train_results.csv', index = None, header=True)\n",
        "test_csv = predictions.to_csv('house_2_predictions.csv', index = 'Time', header=True)"
      ],
      "execution_count": 0,
      "outputs": []
    },
    {
      "cell_type": "markdown",
      "metadata": {
        "id": "GZUb28WXHIzD",
        "colab_type": "text"
      },
      "source": [
        "###Plot Test Data and Model Predictions|"
      ]
    },
    {
      "cell_type": "code",
      "metadata": {
        "id": "CvbAY1JD-lCk",
        "colab_type": "code",
        "outputId": "9e903687-18ac-4639-cb94-6c773cadb1db",
        "colab": {
          "base_uri": "https://localhost:8080/",
          "height": 47
        }
      },
      "source": [
        "from bokeh.plotting import figure, output_file, show\n",
        "from bokeh.io import output_notebook\n",
        "from bokeh.themes import built_in_themes\n",
        "from bokeh.io import curdoc\n",
        "\n",
        "output_notebook()\n",
        "curdoc().theme = 'dark_minimal'\n",
        "\n",
        "p = figure(plot_width=1200, plot_height=600, x_axis_type=\"datetime\")\n",
        "p.xaxis.axis_label = \"Time\"\n",
        "p.yaxis.axis_label = \"Watts\"\n",
        "\n",
        "x0 = np.array(predictions.index)\n",
        "y0 = np.array(predictions['Aggregate'])\n",
        "\n",
        "y1 = np.array(predictions['Fridge'])\n",
        "y2 = np.array(predictions['Kettle'])\n",
        "y3 = np.array(predictions['Dishwasher'])\n",
        "y4 = np.array(predictions['Washing Machine'])\n",
        "y5 = np.array(predictions['Microwave'])\n",
        "\n",
        "p.line(x0, y0, legend= \"Aggregate\", line_color='green')\n",
        "p.line(x0, y1, legend= \"Fridge\", line_color='red')\n",
        "p.line(x0, y2, legend= \"Kettle\", line_color='yellow')\n",
        "p.line(x0, y3, legend= \"Dishwasher\", line_color='blue')\n",
        "p.line(x0, y4, legend= \"Washing Machine\", line_color='orange')\n",
        "p.line(x0, y5, legend= \"Microwave\", line_color='teal')\n",
        "\n",
        "show(p)"
      ],
      "execution_count": 0,
      "outputs": [
        {
          "output_type": "display_data",
          "data": {
            "text/html": [
              "\n",
              "    <div class=\"bk-root\">\n",
              "        <a href=\"https://bokeh.pydata.org\" target=\"_blank\" class=\"bk-logo bk-logo-small bk-logo-notebook\"></a>\n",
              "        <span id=\"1434\">Loading BokehJS ...</span>\n",
              "    </div>"
            ]
          },
          "metadata": {
            "tags": []
          }
        },
        {
          "output_type": "display_data",
          "data": {
            "application/javascript": [
              "\n",
              "(function(root) {\n",
              "  function now() {\n",
              "    return new Date();\n",
              "  }\n",
              "\n",
              "  var force = true;\n",
              "\n",
              "  if (typeof (root._bokeh_onload_callbacks) === \"undefined\" || force === true) {\n",
              "    root._bokeh_onload_callbacks = [];\n",
              "    root._bokeh_is_loading = undefined;\n",
              "  }\n",
              "\n",
              "  var JS_MIME_TYPE = 'application/javascript';\n",
              "  var HTML_MIME_TYPE = 'text/html';\n",
              "  var EXEC_MIME_TYPE = 'application/vnd.bokehjs_exec.v0+json';\n",
              "  var CLASS_NAME = 'output_bokeh rendered_html';\n",
              "\n",
              "  /**\n",
              "   * Render data to the DOM node\n",
              "   */\n",
              "  function render(props, node) {\n",
              "    var script = document.createElement(\"script\");\n",
              "    node.appendChild(script);\n",
              "  }\n",
              "\n",
              "  /**\n",
              "   * Handle when an output is cleared or removed\n",
              "   */\n",
              "  function handleClearOutput(event, handle) {\n",
              "    var cell = handle.cell;\n",
              "\n",
              "    var id = cell.output_area._bokeh_element_id;\n",
              "    var server_id = cell.output_area._bokeh_server_id;\n",
              "    // Clean up Bokeh references\n",
              "    if (id != null && id in Bokeh.index) {\n",
              "      Bokeh.index[id].model.document.clear();\n",
              "      delete Bokeh.index[id];\n",
              "    }\n",
              "\n",
              "    if (server_id !== undefined) {\n",
              "      // Clean up Bokeh references\n",
              "      var cmd = \"from bokeh.io.state import curstate; print(curstate().uuid_to_server['\" + server_id + \"'].get_sessions()[0].document.roots[0]._id)\";\n",
              "      cell.notebook.kernel.execute(cmd, {\n",
              "        iopub: {\n",
              "          output: function(msg) {\n",
              "            var id = msg.content.text.trim();\n",
              "            if (id in Bokeh.index) {\n",
              "              Bokeh.index[id].model.document.clear();\n",
              "              delete Bokeh.index[id];\n",
              "            }\n",
              "          }\n",
              "        }\n",
              "      });\n",
              "      // Destroy server and session\n",
              "      var cmd = \"import bokeh.io.notebook as ion; ion.destroy_server('\" + server_id + \"')\";\n",
              "      cell.notebook.kernel.execute(cmd);\n",
              "    }\n",
              "  }\n",
              "\n",
              "  /**\n",
              "   * Handle when a new output is added\n",
              "   */\n",
              "  function handleAddOutput(event, handle) {\n",
              "    var output_area = handle.output_area;\n",
              "    var output = handle.output;\n",
              "\n",
              "    // limit handleAddOutput to display_data with EXEC_MIME_TYPE content only\n",
              "    if ((output.output_type != \"display_data\") || (!output.data.hasOwnProperty(EXEC_MIME_TYPE))) {\n",
              "      return\n",
              "    }\n",
              "\n",
              "    var toinsert = output_area.element.find(\".\" + CLASS_NAME.split(' ')[0]);\n",
              "\n",
              "    if (output.metadata[EXEC_MIME_TYPE][\"id\"] !== undefined) {\n",
              "      toinsert[toinsert.length - 1].firstChild.textContent = output.data[JS_MIME_TYPE];\n",
              "      // store reference to embed id on output_area\n",
              "      output_area._bokeh_element_id = output.metadata[EXEC_MIME_TYPE][\"id\"];\n",
              "    }\n",
              "    if (output.metadata[EXEC_MIME_TYPE][\"server_id\"] !== undefined) {\n",
              "      var bk_div = document.createElement(\"div\");\n",
              "      bk_div.innerHTML = output.data[HTML_MIME_TYPE];\n",
              "      var script_attrs = bk_div.children[0].attributes;\n",
              "      for (var i = 0; i < script_attrs.length; i++) {\n",
              "        toinsert[toinsert.length - 1].firstChild.setAttribute(script_attrs[i].name, script_attrs[i].value);\n",
              "      }\n",
              "      // store reference to server id on output_area\n",
              "      output_area._bokeh_server_id = output.metadata[EXEC_MIME_TYPE][\"server_id\"];\n",
              "    }\n",
              "  }\n",
              "\n",
              "  function register_renderer(events, OutputArea) {\n",
              "\n",
              "    function append_mime(data, metadata, element) {\n",
              "      // create a DOM node to render to\n",
              "      var toinsert = this.create_output_subarea(\n",
              "        metadata,\n",
              "        CLASS_NAME,\n",
              "        EXEC_MIME_TYPE\n",
              "      );\n",
              "      this.keyboard_manager.register_events(toinsert);\n",
              "      // Render to node\n",
              "      var props = {data: data, metadata: metadata[EXEC_MIME_TYPE]};\n",
              "      render(props, toinsert[toinsert.length - 1]);\n",
              "      element.append(toinsert);\n",
              "      return toinsert\n",
              "    }\n",
              "\n",
              "    /* Handle when an output is cleared or removed */\n",
              "    events.on('clear_output.CodeCell', handleClearOutput);\n",
              "    events.on('delete.Cell', handleClearOutput);\n",
              "\n",
              "    /* Handle when a new output is added */\n",
              "    events.on('output_added.OutputArea', handleAddOutput);\n",
              "\n",
              "    /**\n",
              "     * Register the mime type and append_mime function with output_area\n",
              "     */\n",
              "    OutputArea.prototype.register_mime_type(EXEC_MIME_TYPE, append_mime, {\n",
              "      /* Is output safe? */\n",
              "      safe: true,\n",
              "      /* Index of renderer in `output_area.display_order` */\n",
              "      index: 0\n",
              "    });\n",
              "  }\n",
              "\n",
              "  // register the mime type if in Jupyter Notebook environment and previously unregistered\n",
              "  if (root.Jupyter !== undefined) {\n",
              "    var events = require('base/js/events');\n",
              "    var OutputArea = require('notebook/js/outputarea').OutputArea;\n",
              "\n",
              "    if (OutputArea.prototype.mime_types().indexOf(EXEC_MIME_TYPE) == -1) {\n",
              "      register_renderer(events, OutputArea);\n",
              "    }\n",
              "  }\n",
              "\n",
              "  \n",
              "  if (typeof (root._bokeh_timeout) === \"undefined\" || force === true) {\n",
              "    root._bokeh_timeout = Date.now() + 5000;\n",
              "    root._bokeh_failed_load = false;\n",
              "  }\n",
              "\n",
              "  var NB_LOAD_WARNING = {'data': {'text/html':\n",
              "     \"<div style='background-color: #fdd'>\\n\"+\n",
              "     \"<p>\\n\"+\n",
              "     \"BokehJS does not appear to have successfully loaded. If loading BokehJS from CDN, this \\n\"+\n",
              "     \"may be due to a slow or bad network connection. Possible fixes:\\n\"+\n",
              "     \"</p>\\n\"+\n",
              "     \"<ul>\\n\"+\n",
              "     \"<li>re-rerun `output_notebook()` to attempt to load from CDN again, or</li>\\n\"+\n",
              "     \"<li>use INLINE resources instead, as so:</li>\\n\"+\n",
              "     \"</ul>\\n\"+\n",
              "     \"<code>\\n\"+\n",
              "     \"from bokeh.resources import INLINE\\n\"+\n",
              "     \"output_notebook(resources=INLINE)\\n\"+\n",
              "     \"</code>\\n\"+\n",
              "     \"</div>\"}};\n",
              "\n",
              "  function display_loaded() {\n",
              "    var el = document.getElementById(\"1434\");\n",
              "    if (el != null) {\n",
              "      el.textContent = \"BokehJS is loading...\";\n",
              "    }\n",
              "    if (root.Bokeh !== undefined) {\n",
              "      if (el != null) {\n",
              "        el.textContent = \"BokehJS \" + root.Bokeh.version + \" successfully loaded.\";\n",
              "      }\n",
              "    } else if (Date.now() < root._bokeh_timeout) {\n",
              "      setTimeout(display_loaded, 100)\n",
              "    }\n",
              "  }\n",
              "\n",
              "\n",
              "  function run_callbacks() {\n",
              "    try {\n",
              "      root._bokeh_onload_callbacks.forEach(function(callback) { callback() });\n",
              "    }\n",
              "    finally {\n",
              "      delete root._bokeh_onload_callbacks\n",
              "    }\n",
              "    console.info(\"Bokeh: all callbacks have finished\");\n",
              "  }\n",
              "\n",
              "  function load_libs(js_urls, callback) {\n",
              "    root._bokeh_onload_callbacks.push(callback);\n",
              "    if (root._bokeh_is_loading > 0) {\n",
              "      console.log(\"Bokeh: BokehJS is being loaded, scheduling callback at\", now());\n",
              "      return null;\n",
              "    }\n",
              "    if (js_urls == null || js_urls.length === 0) {\n",
              "      run_callbacks();\n",
              "      return null;\n",
              "    }\n",
              "    console.log(\"Bokeh: BokehJS not loaded, scheduling load and callback at\", now());\n",
              "    root._bokeh_is_loading = js_urls.length;\n",
              "    for (var i = 0; i < js_urls.length; i++) {\n",
              "      var url = js_urls[i];\n",
              "      var s = document.createElement('script');\n",
              "      s.src = url;\n",
              "      s.async = false;\n",
              "      s.onreadystatechange = s.onload = function() {\n",
              "        root._bokeh_is_loading--;\n",
              "        if (root._bokeh_is_loading === 0) {\n",
              "          console.log(\"Bokeh: all BokehJS libraries loaded\");\n",
              "          run_callbacks()\n",
              "        }\n",
              "      };\n",
              "      s.onerror = function() {\n",
              "        console.warn(\"failed to load library \" + url);\n",
              "      };\n",
              "      console.log(\"Bokeh: injecting script tag for BokehJS library: \", url);\n",
              "      document.getElementsByTagName(\"head\")[0].appendChild(s);\n",
              "    }\n",
              "  };var element = document.getElementById(\"1434\");\n",
              "  if (element == null) {\n",
              "    console.log(\"Bokeh: ERROR: autoload.js configured with elementid '1434' but no matching script tag was found. \")\n",
              "    return false;\n",
              "  }\n",
              "\n",
              "  var js_urls = [\"https://cdn.pydata.org/bokeh/release/bokeh-1.0.4.min.js\", \"https://cdn.pydata.org/bokeh/release/bokeh-widgets-1.0.4.min.js\", \"https://cdn.pydata.org/bokeh/release/bokeh-tables-1.0.4.min.js\", \"https://cdn.pydata.org/bokeh/release/bokeh-gl-1.0.4.min.js\"];\n",
              "\n",
              "  var inline_js = [\n",
              "    function(Bokeh) {\n",
              "      Bokeh.set_log_level(\"info\");\n",
              "    },\n",
              "    \n",
              "    function(Bokeh) {\n",
              "      \n",
              "    },\n",
              "    function(Bokeh) {\n",
              "      console.log(\"Bokeh: injecting CSS: https://cdn.pydata.org/bokeh/release/bokeh-1.0.4.min.css\");\n",
              "      Bokeh.embed.inject_css(\"https://cdn.pydata.org/bokeh/release/bokeh-1.0.4.min.css\");\n",
              "      console.log(\"Bokeh: injecting CSS: https://cdn.pydata.org/bokeh/release/bokeh-widgets-1.0.4.min.css\");\n",
              "      Bokeh.embed.inject_css(\"https://cdn.pydata.org/bokeh/release/bokeh-widgets-1.0.4.min.css\");\n",
              "      console.log(\"Bokeh: injecting CSS: https://cdn.pydata.org/bokeh/release/bokeh-tables-1.0.4.min.css\");\n",
              "      Bokeh.embed.inject_css(\"https://cdn.pydata.org/bokeh/release/bokeh-tables-1.0.4.min.css\");\n",
              "    }\n",
              "  ];\n",
              "\n",
              "  function run_inline_js() {\n",
              "    \n",
              "    if ((root.Bokeh !== undefined) || (force === true)) {\n",
              "      for (var i = 0; i < inline_js.length; i++) {\n",
              "        inline_js[i].call(root, root.Bokeh);\n",
              "      }if (force === true) {\n",
              "        display_loaded();\n",
              "      }} else if (Date.now() < root._bokeh_timeout) {\n",
              "      setTimeout(run_inline_js, 100);\n",
              "    } else if (!root._bokeh_failed_load) {\n",
              "      console.log(\"Bokeh: BokehJS failed to load within specified timeout.\");\n",
              "      root._bokeh_failed_load = true;\n",
              "    } else if (force !== true) {\n",
              "      var cell = $(document.getElementById(\"1434\")).parents('.cell').data().cell;\n",
              "      cell.output_area.append_execute_result(NB_LOAD_WARNING)\n",
              "    }\n",
              "\n",
              "  }\n",
              "\n",
              "  if (root._bokeh_is_loading === 0) {\n",
              "    console.log(\"Bokeh: BokehJS loaded, going straight to plotting\");\n",
              "    run_inline_js();\n",
              "  } else {\n",
              "    load_libs(js_urls, function() {\n",
              "      console.log(\"Bokeh: BokehJS plotting callback run at\", now());\n",
              "      run_inline_js();\n",
              "    });\n",
              "  }\n",
              "}(window));"
            ],
            "application/vnd.bokehjs_load.v0+json": "\n(function(root) {\n  function now() {\n    return new Date();\n  }\n\n  var force = true;\n\n  if (typeof (root._bokeh_onload_callbacks) === \"undefined\" || force === true) {\n    root._bokeh_onload_callbacks = [];\n    root._bokeh_is_loading = undefined;\n  }\n\n  \n\n  \n  if (typeof (root._bokeh_timeout) === \"undefined\" || force === true) {\n    root._bokeh_timeout = Date.now() + 5000;\n    root._bokeh_failed_load = false;\n  }\n\n  var NB_LOAD_WARNING = {'data': {'text/html':\n     \"<div style='background-color: #fdd'>\\n\"+\n     \"<p>\\n\"+\n     \"BokehJS does not appear to have successfully loaded. If loading BokehJS from CDN, this \\n\"+\n     \"may be due to a slow or bad network connection. Possible fixes:\\n\"+\n     \"</p>\\n\"+\n     \"<ul>\\n\"+\n     \"<li>re-rerun `output_notebook()` to attempt to load from CDN again, or</li>\\n\"+\n     \"<li>use INLINE resources instead, as so:</li>\\n\"+\n     \"</ul>\\n\"+\n     \"<code>\\n\"+\n     \"from bokeh.resources import INLINE\\n\"+\n     \"output_notebook(resources=INLINE)\\n\"+\n     \"</code>\\n\"+\n     \"</div>\"}};\n\n  function display_loaded() {\n    var el = document.getElementById(\"1434\");\n    if (el != null) {\n      el.textContent = \"BokehJS is loading...\";\n    }\n    if (root.Bokeh !== undefined) {\n      if (el != null) {\n        el.textContent = \"BokehJS \" + root.Bokeh.version + \" successfully loaded.\";\n      }\n    } else if (Date.now() < root._bokeh_timeout) {\n      setTimeout(display_loaded, 100)\n    }\n  }\n\n\n  function run_callbacks() {\n    try {\n      root._bokeh_onload_callbacks.forEach(function(callback) { callback() });\n    }\n    finally {\n      delete root._bokeh_onload_callbacks\n    }\n    console.info(\"Bokeh: all callbacks have finished\");\n  }\n\n  function load_libs(js_urls, callback) {\n    root._bokeh_onload_callbacks.push(callback);\n    if (root._bokeh_is_loading > 0) {\n      console.log(\"Bokeh: BokehJS is being loaded, scheduling callback at\", now());\n      return null;\n    }\n    if (js_urls == null || js_urls.length === 0) {\n      run_callbacks();\n      return null;\n    }\n    console.log(\"Bokeh: BokehJS not loaded, scheduling load and callback at\", now());\n    root._bokeh_is_loading = js_urls.length;\n    for (var i = 0; i < js_urls.length; i++) {\n      var url = js_urls[i];\n      var s = document.createElement('script');\n      s.src = url;\n      s.async = false;\n      s.onreadystatechange = s.onload = function() {\n        root._bokeh_is_loading--;\n        if (root._bokeh_is_loading === 0) {\n          console.log(\"Bokeh: all BokehJS libraries loaded\");\n          run_callbacks()\n        }\n      };\n      s.onerror = function() {\n        console.warn(\"failed to load library \" + url);\n      };\n      console.log(\"Bokeh: injecting script tag for BokehJS library: \", url);\n      document.getElementsByTagName(\"head\")[0].appendChild(s);\n    }\n  };var element = document.getElementById(\"1434\");\n  if (element == null) {\n    console.log(\"Bokeh: ERROR: autoload.js configured with elementid '1434' but no matching script tag was found. \")\n    return false;\n  }\n\n  var js_urls = [\"https://cdn.pydata.org/bokeh/release/bokeh-1.0.4.min.js\", \"https://cdn.pydata.org/bokeh/release/bokeh-widgets-1.0.4.min.js\", \"https://cdn.pydata.org/bokeh/release/bokeh-tables-1.0.4.min.js\", \"https://cdn.pydata.org/bokeh/release/bokeh-gl-1.0.4.min.js\"];\n\n  var inline_js = [\n    function(Bokeh) {\n      Bokeh.set_log_level(\"info\");\n    },\n    \n    function(Bokeh) {\n      \n    },\n    function(Bokeh) {\n      console.log(\"Bokeh: injecting CSS: https://cdn.pydata.org/bokeh/release/bokeh-1.0.4.min.css\");\n      Bokeh.embed.inject_css(\"https://cdn.pydata.org/bokeh/release/bokeh-1.0.4.min.css\");\n      console.log(\"Bokeh: injecting CSS: https://cdn.pydata.org/bokeh/release/bokeh-widgets-1.0.4.min.css\");\n      Bokeh.embed.inject_css(\"https://cdn.pydata.org/bokeh/release/bokeh-widgets-1.0.4.min.css\");\n      console.log(\"Bokeh: injecting CSS: https://cdn.pydata.org/bokeh/release/bokeh-tables-1.0.4.min.css\");\n      Bokeh.embed.inject_css(\"https://cdn.pydata.org/bokeh/release/bokeh-tables-1.0.4.min.css\");\n    }\n  ];\n\n  function run_inline_js() {\n    \n    if ((root.Bokeh !== undefined) || (force === true)) {\n      for (var i = 0; i < inline_js.length; i++) {\n        inline_js[i].call(root, root.Bokeh);\n      }if (force === true) {\n        display_loaded();\n      }} else if (Date.now() < root._bokeh_timeout) {\n      setTimeout(run_inline_js, 100);\n    } else if (!root._bokeh_failed_load) {\n      console.log(\"Bokeh: BokehJS failed to load within specified timeout.\");\n      root._bokeh_failed_load = true;\n    } else if (force !== true) {\n      var cell = $(document.getElementById(\"1434\")).parents('.cell').data().cell;\n      cell.output_area.append_execute_result(NB_LOAD_WARNING)\n    }\n\n  }\n\n  if (root._bokeh_is_loading === 0) {\n    console.log(\"Bokeh: BokehJS loaded, going straight to plotting\");\n    run_inline_js();\n  } else {\n    load_libs(js_urls, function() {\n      console.log(\"Bokeh: BokehJS plotting callback run at\", now());\n      run_inline_js();\n    });\n  }\n}(window));"
          },
          "metadata": {
            "tags": []
          }
        },
        {
          "output_type": "display_data",
          "data": {
            "text/html": [
              "\n",
              "\n",
              "\n",
              "\n",
              "\n",
              "\n",
              "  <div class=\"bk-root\" id=\"0255e1ca-5c1f-4a2a-bc16-d1d3facb202d\" data-root-id=\"1435\"></div>\n"
            ]
          },
          "metadata": {
            "tags": []
          }
        }
      ]
    },
    {
      "cell_type": "code",
      "metadata": {
        "id": "5NGi2f_lDb5H",
        "colab_type": "code",
        "colab": {}
      },
      "source": [
        ""
      ],
      "execution_count": 0,
      "outputs": []
    }
  ]
}